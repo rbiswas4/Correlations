{
 "cells": [
  {
   "cell_type": "code",
   "execution_count": 1,
   "metadata": {},
   "outputs": [],
   "source": [
    "from lcfeats import Features, Metrics"
   ]
  },
  {
   "cell_type": "code",
   "execution_count": 2,
   "metadata": {},
   "outputs": [],
   "source": [
    "import pandas as pd"
   ]
  },
  {
   "cell_type": "code",
   "execution_count": 3,
   "metadata": {},
   "outputs": [],
   "source": [
    "from lcfeats import example_data"
   ]
  },
  {
   "cell_type": "code",
   "execution_count": 4,
   "metadata": {},
   "outputs": [],
   "source": [
    "import os"
   ]
  },
  {
   "cell_type": "code",
   "execution_count": 5,
   "metadata": {},
   "outputs": [
    {
     "name": "stdout",
     "output_type": "stream",
     "text": [
      "This requires a THROUGHPUTS directory to be setup as an env var\n",
      "\n",
      "This may be achieved, for example, by setting up the LSST stack\n",
      "\n",
      "or by cloning the throughputs directory from git-lfs, \n",
      "\n",
      "and setting up env vars. The function is to provide the LSST bandpass\n",
      "\n",
      "files\n",
      "\n"
     ]
    }
   ],
   "source": [
    "from sndata import PhotTables"
   ]
  },
  {
   "cell_type": "code",
   "execution_count": 8,
   "metadata": {},
   "outputs": [],
   "source": [
    "import sndata"
   ]
  },
  {
   "cell_type": "code",
   "execution_count": 9,
   "metadata": {},
   "outputs": [
    {
     "name": "stdout",
     "output_type": "stream",
     "text": [
      "0.0.6\n"
     ]
    }
   ],
   "source": [
    "print(sndata.__version__)"
   ]
  },
  {
   "cell_type": "code",
   "execution_count": 8,
   "metadata": {},
   "outputs": [],
   "source": [
    "summary = pd.read_csv(os.path.join(example_data, 'summary.csv.gz'))\n",
    "photometry = pd.read_csv(os.path.join(example_data, 'photometry.csv.gz'))"
   ]
  },
  {
   "cell_type": "code",
   "execution_count": 9,
   "metadata": {},
   "outputs": [],
   "source": [
    "photometry['SNR'] = photometry['flux'] / photometry['fluxerr']"
   ]
  },
  {
   "cell_type": "code",
   "execution_count": 10,
   "metadata": {},
   "outputs": [],
   "source": [
    "fts = Features(summary=summary, photometry=photometry)"
   ]
  },
  {
   "cell_type": "code",
   "execution_count": 11,
   "metadata": {},
   "outputs": [
    {
     "data": {
      "text/plain": [
       "Index(['SNID', 'RA', 'DECL', 'SIM_RA', 'SIM_DECL', 'SIM_NGEN_LIBID',\n",
       "       'SIM_LIBID', 'MWEBV', 'MWEBV_ERR', 'SIM_MWEBV', 'SIM_MODEL_NAME',\n",
       "       'SIM_TEMPLATE_INDEX', 'SNTYPE', 'SIM_TYPE_INDEX', 'SIM_TYPE_NAME',\n",
       "       'NOBS', 'SIM_NOBS_UNDEFINED', 'REDSHIFT_FINAL', 'REDSHIFT_FINAL_ERR',\n",
       "       'HOSTGAL_PHOTOZ', 'HOSTGAL_PHOTOZ_ERR', 'HOSTGAL_SPECZ',\n",
       "       'HOSTGAL_SPECZ_ERR', 'SIM_DLMU', 'SIM_LENSDMU', 'SIM_PEAKMJD',\n",
       "       'PEAKMJD', 'SIM_PEAKMAG_u', 'SIM_PEAKMAG_g', 'SIM_PEAKMAG_r',\n",
       "       'SIM_PEAKMAG_i', 'SIM_PEAKMAG_z', 'SIM_PEAKMAG_y'],\n",
       "      dtype='object')"
      ]
     },
     "execution_count": 11,
     "metadata": {},
     "output_type": "execute_result"
    }
   ],
   "source": [
    "summary.columns"
   ]
  },
  {
   "cell_type": "code",
   "execution_count": 12,
   "metadata": {},
   "outputs": [
    {
     "name": "stderr",
     "output_type": "stream",
     "text": [
      "/Users/rbiswas/soft/mypython3/lib/python3.6/site-packages/numpy/lib/nanfunctions.py:717: RuntimeWarning: All-NaN slice encountered\n",
      "  warnings.warn(\"All-NaN slice encountered\", RuntimeWarning)\n"
     ]
    },
    {
     "name": "stdout",
     "output_type": "stream",
     "text": [
      "Index(['lsstr_SNR_greater_5.0_mjd_min', 'lsstr_SNR_greater_5.0_mjd_max',\n",
      "       'lsstr_SNR_greater_5.0_numObs', 'lsstr_SNR_greater_5.0_diffmedian',\n",
      "       'lsstr_SNR_greater_5.0_diffstd'],\n",
      "      dtype='object')\n",
      "Index(['SNID', 'RA', 'DECL', 'SIM_RA', 'SIM_DECL', 'SIM_NGEN_LIBID',\n",
      "       'SIM_LIBID', 'MWEBV', 'MWEBV_ERR', 'SIM_MWEBV', 'SIM_MODEL_NAME',\n",
      "       'SIM_TEMPLATE_INDEX', 'SNTYPE', 'SIM_TYPE_INDEX', 'SIM_TYPE_NAME',\n",
      "       'NOBS', 'SIM_NOBS_UNDEFINED', 'REDSHIFT_FINAL', 'REDSHIFT_FINAL_ERR',\n",
      "       'HOSTGAL_PHOTOZ', 'HOSTGAL_PHOTOZ_ERR', 'HOSTGAL_SPECZ',\n",
      "       'HOSTGAL_SPECZ_ERR', 'SIM_DLMU', 'SIM_LENSDMU', 'SIM_PEAKMJD',\n",
      "       'PEAKMJD', 'SIM_PEAKMAG_u', 'SIM_PEAKMAG_g', 'SIM_PEAKMAG_r',\n",
      "       'SIM_PEAKMAG_i', 'SIM_PEAKMAG_z', 'SIM_PEAKMAG_y'],\n",
      "      dtype='object')\n",
      "Index(['lssti_SNR_greater_5.0_mjd_min', 'lssti_SNR_greater_5.0_mjd_max',\n",
      "       'lssti_SNR_greater_5.0_numObs', 'lssti_SNR_greater_5.0_diffmedian',\n",
      "       'lssti_SNR_greater_5.0_diffstd'],\n",
      "      dtype='object')\n",
      "Index(['SNID', 'RA', 'DECL', 'SIM_RA', 'SIM_DECL', 'SIM_NGEN_LIBID',\n",
      "       'SIM_LIBID', 'MWEBV', 'MWEBV_ERR', 'SIM_MWEBV', 'SIM_MODEL_NAME',\n",
      "       'SIM_TEMPLATE_INDEX', 'SNTYPE', 'SIM_TYPE_INDEX', 'SIM_TYPE_NAME',\n",
      "       'NOBS', 'SIM_NOBS_UNDEFINED', 'REDSHIFT_FINAL', 'REDSHIFT_FINAL_ERR',\n",
      "       'HOSTGAL_PHOTOZ', 'HOSTGAL_PHOTOZ_ERR', 'HOSTGAL_SPECZ',\n",
      "       'HOSTGAL_SPECZ_ERR', 'SIM_DLMU', 'SIM_LENSDMU', 'SIM_PEAKMJD',\n",
      "       'PEAKMJD', 'SIM_PEAKMAG_u', 'SIM_PEAKMAG_g', 'SIM_PEAKMAG_r',\n",
      "       'SIM_PEAKMAG_i', 'SIM_PEAKMAG_z', 'SIM_PEAKMAG_y',\n",
      "       'lsstr_SNR_greater_5.0_mjd_min', 'lsstr_SNR_greater_5.0_mjd_max',\n",
      "       'lsstr_SNR_greater_5.0_numObs', 'lsstr_SNR_greater_5.0_diffmedian',\n",
      "       'lsstr_SNR_greater_5.0_diffstd'],\n",
      "      dtype='object')\n",
      "Index(['lsstu_SNR_greater_5.0_mjd_min', 'lsstu_SNR_greater_5.0_mjd_max',\n",
      "       'lsstu_SNR_greater_5.0_numObs', 'lsstu_SNR_greater_5.0_diffmedian',\n",
      "       'lsstu_SNR_greater_5.0_diffstd'],\n",
      "      dtype='object')\n",
      "Index(['SNID', 'RA', 'DECL', 'SIM_RA', 'SIM_DECL', 'SIM_NGEN_LIBID',\n",
      "       'SIM_LIBID', 'MWEBV', 'MWEBV_ERR', 'SIM_MWEBV', 'SIM_MODEL_NAME',\n",
      "       'SIM_TEMPLATE_INDEX', 'SNTYPE', 'SIM_TYPE_INDEX', 'SIM_TYPE_NAME',\n",
      "       'NOBS', 'SIM_NOBS_UNDEFINED', 'REDSHIFT_FINAL', 'REDSHIFT_FINAL_ERR',\n",
      "       'HOSTGAL_PHOTOZ', 'HOSTGAL_PHOTOZ_ERR', 'HOSTGAL_SPECZ',\n",
      "       'HOSTGAL_SPECZ_ERR', 'SIM_DLMU', 'SIM_LENSDMU', 'SIM_PEAKMJD',\n",
      "       'PEAKMJD', 'SIM_PEAKMAG_u', 'SIM_PEAKMAG_g', 'SIM_PEAKMAG_r',\n",
      "       'SIM_PEAKMAG_i', 'SIM_PEAKMAG_z', 'SIM_PEAKMAG_y',\n",
      "       'lsstr_SNR_greater_5.0_mjd_min', 'lsstr_SNR_greater_5.0_mjd_max',\n",
      "       'lsstr_SNR_greater_5.0_numObs', 'lsstr_SNR_greater_5.0_diffmedian',\n",
      "       'lsstr_SNR_greater_5.0_diffstd', 'lssti_SNR_greater_5.0_mjd_min',\n",
      "       'lssti_SNR_greater_5.0_mjd_max', 'lssti_SNR_greater_5.0_numObs',\n",
      "       'lssti_SNR_greater_5.0_diffmedian', 'lssti_SNR_greater_5.0_diffstd'],\n",
      "      dtype='object')\n",
      "Index(['lsstz_SNR_greater_5.0_mjd_min', 'lsstz_SNR_greater_5.0_mjd_max',\n",
      "       'lsstz_SNR_greater_5.0_numObs', 'lsstz_SNR_greater_5.0_diffmedian',\n",
      "       'lsstz_SNR_greater_5.0_diffstd'],\n",
      "      dtype='object')\n",
      "Index(['SNID', 'RA', 'DECL', 'SIM_RA', 'SIM_DECL', 'SIM_NGEN_LIBID',\n",
      "       'SIM_LIBID', 'MWEBV', 'MWEBV_ERR', 'SIM_MWEBV', 'SIM_MODEL_NAME',\n",
      "       'SIM_TEMPLATE_INDEX', 'SNTYPE', 'SIM_TYPE_INDEX', 'SIM_TYPE_NAME',\n",
      "       'NOBS', 'SIM_NOBS_UNDEFINED', 'REDSHIFT_FINAL', 'REDSHIFT_FINAL_ERR',\n",
      "       'HOSTGAL_PHOTOZ', 'HOSTGAL_PHOTOZ_ERR', 'HOSTGAL_SPECZ',\n",
      "       'HOSTGAL_SPECZ_ERR', 'SIM_DLMU', 'SIM_LENSDMU', 'SIM_PEAKMJD',\n",
      "       'PEAKMJD', 'SIM_PEAKMAG_u', 'SIM_PEAKMAG_g', 'SIM_PEAKMAG_r',\n",
      "       'SIM_PEAKMAG_i', 'SIM_PEAKMAG_z', 'SIM_PEAKMAG_y',\n",
      "       'lsstr_SNR_greater_5.0_mjd_min', 'lsstr_SNR_greater_5.0_mjd_max',\n",
      "       'lsstr_SNR_greater_5.0_numObs', 'lsstr_SNR_greater_5.0_diffmedian',\n",
      "       'lsstr_SNR_greater_5.0_diffstd', 'lssti_SNR_greater_5.0_mjd_min',\n",
      "       'lssti_SNR_greater_5.0_mjd_max', 'lssti_SNR_greater_5.0_numObs',\n",
      "       'lssti_SNR_greater_5.0_diffmedian', 'lssti_SNR_greater_5.0_diffstd',\n",
      "       'lsstu_SNR_greater_5.0_mjd_min', 'lsstu_SNR_greater_5.0_mjd_max',\n",
      "       'lsstu_SNR_greater_5.0_numObs', 'lsstu_SNR_greater_5.0_diffmedian',\n",
      "       'lsstu_SNR_greater_5.0_diffstd'],\n",
      "      dtype='object')\n",
      "Index(['lssty_SNR_greater_5.0_mjd_min', 'lssty_SNR_greater_5.0_mjd_max',\n",
      "       'lssty_SNR_greater_5.0_numObs', 'lssty_SNR_greater_5.0_diffmedian',\n",
      "       'lssty_SNR_greater_5.0_diffstd'],\n",
      "      dtype='object')\n",
      "Index(['SNID', 'RA', 'DECL', 'SIM_RA', 'SIM_DECL', 'SIM_NGEN_LIBID',\n",
      "       'SIM_LIBID', 'MWEBV', 'MWEBV_ERR', 'SIM_MWEBV', 'SIM_MODEL_NAME',\n",
      "       'SIM_TEMPLATE_INDEX', 'SNTYPE', 'SIM_TYPE_INDEX', 'SIM_TYPE_NAME',\n",
      "       'NOBS', 'SIM_NOBS_UNDEFINED', 'REDSHIFT_FINAL', 'REDSHIFT_FINAL_ERR',\n",
      "       'HOSTGAL_PHOTOZ', 'HOSTGAL_PHOTOZ_ERR', 'HOSTGAL_SPECZ',\n",
      "       'HOSTGAL_SPECZ_ERR', 'SIM_DLMU', 'SIM_LENSDMU', 'SIM_PEAKMJD',\n",
      "       'PEAKMJD', 'SIM_PEAKMAG_u', 'SIM_PEAKMAG_g', 'SIM_PEAKMAG_r',\n",
      "       'SIM_PEAKMAG_i', 'SIM_PEAKMAG_z', 'SIM_PEAKMAG_y',\n",
      "       'lsstr_SNR_greater_5.0_mjd_min', 'lsstr_SNR_greater_5.0_mjd_max',\n",
      "       'lsstr_SNR_greater_5.0_numObs', 'lsstr_SNR_greater_5.0_diffmedian',\n",
      "       'lsstr_SNR_greater_5.0_diffstd', 'lssti_SNR_greater_5.0_mjd_min',\n",
      "       'lssti_SNR_greater_5.0_mjd_max', 'lssti_SNR_greater_5.0_numObs',\n",
      "       'lssti_SNR_greater_5.0_diffmedian', 'lssti_SNR_greater_5.0_diffstd',\n",
      "       'lsstu_SNR_greater_5.0_mjd_min', 'lsstu_SNR_greater_5.0_mjd_max',\n",
      "       'lsstu_SNR_greater_5.0_numObs', 'lsstu_SNR_greater_5.0_diffmedian',\n",
      "       'lsstu_SNR_greater_5.0_diffstd', 'lsstz_SNR_greater_5.0_mjd_min',\n",
      "       'lsstz_SNR_greater_5.0_mjd_max', 'lsstz_SNR_greater_5.0_numObs',\n",
      "       'lsstz_SNR_greater_5.0_diffmedian', 'lsstz_SNR_greater_5.0_diffstd'],\n",
      "      dtype='object')\n",
      "Index(['lsstg_SNR_greater_5.0_mjd_min', 'lsstg_SNR_greater_5.0_mjd_max',\n",
      "       'lsstg_SNR_greater_5.0_numObs', 'lsstg_SNR_greater_5.0_diffmedian',\n",
      "       'lsstg_SNR_greater_5.0_diffstd'],\n",
      "      dtype='object')\n",
      "Index(['SNID', 'RA', 'DECL', 'SIM_RA', 'SIM_DECL', 'SIM_NGEN_LIBID',\n",
      "       'SIM_LIBID', 'MWEBV', 'MWEBV_ERR', 'SIM_MWEBV', 'SIM_MODEL_NAME',\n",
      "       'SIM_TEMPLATE_INDEX', 'SNTYPE', 'SIM_TYPE_INDEX', 'SIM_TYPE_NAME',\n",
      "       'NOBS', 'SIM_NOBS_UNDEFINED', 'REDSHIFT_FINAL', 'REDSHIFT_FINAL_ERR',\n",
      "       'HOSTGAL_PHOTOZ', 'HOSTGAL_PHOTOZ_ERR', 'HOSTGAL_SPECZ',\n",
      "       'HOSTGAL_SPECZ_ERR', 'SIM_DLMU', 'SIM_LENSDMU', 'SIM_PEAKMJD',\n",
      "       'PEAKMJD', 'SIM_PEAKMAG_u', 'SIM_PEAKMAG_g', 'SIM_PEAKMAG_r',\n",
      "       'SIM_PEAKMAG_i', 'SIM_PEAKMAG_z', 'SIM_PEAKMAG_y',\n",
      "       'lsstr_SNR_greater_5.0_mjd_min', 'lsstr_SNR_greater_5.0_mjd_max',\n",
      "       'lsstr_SNR_greater_5.0_numObs', 'lsstr_SNR_greater_5.0_diffmedian',\n",
      "       'lsstr_SNR_greater_5.0_diffstd', 'lssti_SNR_greater_5.0_mjd_min',\n",
      "       'lssti_SNR_greater_5.0_mjd_max', 'lssti_SNR_greater_5.0_numObs',\n",
      "       'lssti_SNR_greater_5.0_diffmedian', 'lssti_SNR_greater_5.0_diffstd',\n",
      "       'lsstu_SNR_greater_5.0_mjd_min', 'lsstu_SNR_greater_5.0_mjd_max',\n",
      "       'lsstu_SNR_greater_5.0_numObs', 'lsstu_SNR_greater_5.0_diffmedian',\n",
      "       'lsstu_SNR_greater_5.0_diffstd', 'lsstz_SNR_greater_5.0_mjd_min',\n",
      "       'lsstz_SNR_greater_5.0_mjd_max', 'lsstz_SNR_greater_5.0_numObs',\n",
      "       'lsstz_SNR_greater_5.0_diffmedian', 'lsstz_SNR_greater_5.0_diffstd',\n",
      "       'lssty_SNR_greater_5.0_mjd_min', 'lssty_SNR_greater_5.0_mjd_max',\n",
      "       'lssty_SNR_greater_5.0_numObs', 'lssty_SNR_greater_5.0_diffmedian',\n",
      "       'lssty_SNR_greater_5.0_diffstd'],\n",
      "      dtype='object')\n"
     ]
    }
   ],
   "source": [
    "ss = fts.add_singleband_quants(fts.photometry,\n",
    "                               fts.summary,\n",
    "                               SNR_thresh=5.0)"
   ]
  },
  {
   "cell_type": "code",
   "execution_count": 13,
   "metadata": {},
   "outputs": [
    {
     "data": {
      "text/plain": [
       "Index(['SNID', 'RA', 'DECL', 'SIM_RA', 'SIM_DECL', 'SIM_NGEN_LIBID',\n",
       "       'SIM_LIBID', 'MWEBV', 'MWEBV_ERR', 'SIM_MWEBV', 'SIM_MODEL_NAME',\n",
       "       'SIM_TEMPLATE_INDEX', 'SNTYPE', 'SIM_TYPE_INDEX', 'SIM_TYPE_NAME',\n",
       "       'NOBS', 'SIM_NOBS_UNDEFINED', 'REDSHIFT_FINAL', 'REDSHIFT_FINAL_ERR',\n",
       "       'HOSTGAL_PHOTOZ', 'HOSTGAL_PHOTOZ_ERR', 'HOSTGAL_SPECZ',\n",
       "       'HOSTGAL_SPECZ_ERR', 'SIM_DLMU', 'SIM_LENSDMU', 'SIM_PEAKMJD',\n",
       "       'PEAKMJD', 'SIM_PEAKMAG_u', 'SIM_PEAKMAG_g', 'SIM_PEAKMAG_r',\n",
       "       'SIM_PEAKMAG_i', 'SIM_PEAKMAG_z', 'SIM_PEAKMAG_y',\n",
       "       'lsstr_SNR_greater_5.0_mjd_min', 'lsstr_SNR_greater_5.0_mjd_max',\n",
       "       'lsstr_SNR_greater_5.0_numObs', 'lsstr_SNR_greater_5.0_diffmedian',\n",
       "       'lsstr_SNR_greater_5.0_diffstd', 'lssti_SNR_greater_5.0_mjd_min',\n",
       "       'lssti_SNR_greater_5.0_mjd_max', 'lssti_SNR_greater_5.0_numObs',\n",
       "       'lssti_SNR_greater_5.0_diffmedian', 'lssti_SNR_greater_5.0_diffstd',\n",
       "       'lsstu_SNR_greater_5.0_mjd_min', 'lsstu_SNR_greater_5.0_mjd_max',\n",
       "       'lsstu_SNR_greater_5.0_numObs', 'lsstu_SNR_greater_5.0_diffmedian',\n",
       "       'lsstu_SNR_greater_5.0_diffstd', 'lsstz_SNR_greater_5.0_mjd_min',\n",
       "       'lsstz_SNR_greater_5.0_mjd_max', 'lsstz_SNR_greater_5.0_numObs',\n",
       "       'lsstz_SNR_greater_5.0_diffmedian', 'lsstz_SNR_greater_5.0_diffstd',\n",
       "       'lssty_SNR_greater_5.0_mjd_min', 'lssty_SNR_greater_5.0_mjd_max',\n",
       "       'lssty_SNR_greater_5.0_numObs', 'lssty_SNR_greater_5.0_diffmedian',\n",
       "       'lssty_SNR_greater_5.0_diffstd', 'lsstg_SNR_greater_5.0_mjd_min',\n",
       "       'lsstg_SNR_greater_5.0_mjd_max', 'lsstg_SNR_greater_5.0_numObs',\n",
       "       'lsstg_SNR_greater_5.0_diffmedian', 'lsstg_SNR_greater_5.0_diffstd',\n",
       "       'lsstr_SNR_greater_5.0_SNR_max', 'lsstr_SNR_greater_5.0_SNR_median',\n",
       "       'lssti_SNR_greater_5.0_SNR_max', 'lssti_SNR_greater_5.0_SNR_median',\n",
       "       'lsstu_SNR_greater_5.0_SNR_max', 'lsstu_SNR_greater_5.0_SNR_median',\n",
       "       'lsstz_SNR_greater_5.0_SNR_max', 'lsstz_SNR_greater_5.0_SNR_median',\n",
       "       'lssty_SNR_greater_5.0_SNR_max', 'lssty_SNR_greater_5.0_SNR_median',\n",
       "       'lsstg_SNR_greater_5.0_SNR_max', 'lsstg_SNR_greater_5.0_SNR_median',\n",
       "       'lsstr_SNR_greater_5.0_SIM_MAGOBS_median',\n",
       "       'lssti_SNR_greater_5.0_SIM_MAGOBS_median',\n",
       "       'lsstu_SNR_greater_5.0_SIM_MAGOBS_median',\n",
       "       'lsstz_SNR_greater_5.0_SIM_MAGOBS_median',\n",
       "       'lssty_SNR_greater_5.0_SIM_MAGOBS_median',\n",
       "       'lsstg_SNR_greater_5.0_SIM_MAGOBS_median'],\n",
       "      dtype='object')"
      ]
     },
     "execution_count": 13,
     "metadata": {},
     "output_type": "execute_result"
    }
   ],
   "source": [
    "ss.columns"
   ]
  },
  {
   "cell_type": "code",
   "execution_count": 14,
   "metadata": {},
   "outputs": [],
   "source": [
    "metrics = Metrics(ss, photometry, 'test_metrics.csv')"
   ]
  },
  {
   "cell_type": "code",
   "execution_count": 15,
   "metadata": {},
   "outputs": [
    {
     "data": {
      "text/plain": [
       "Index(['SNID', 'RA', 'DECL', 'SIM_RA', 'SIM_DECL', 'SIM_NGEN_LIBID',\n",
       "       'SIM_LIBID', 'MWEBV', 'MWEBV_ERR', 'SIM_MWEBV', 'SIM_MODEL_NAME',\n",
       "       'SIM_TEMPLATE_INDEX', 'SNTYPE', 'SIM_TYPE_INDEX', 'SIM_TYPE_NAME',\n",
       "       'NOBS', 'SIM_NOBS_UNDEFINED', 'REDSHIFT_FINAL', 'REDSHIFT_FINAL_ERR',\n",
       "       'HOSTGAL_PHOTOZ', 'HOSTGAL_PHOTOZ_ERR', 'HOSTGAL_SPECZ',\n",
       "       'HOSTGAL_SPECZ_ERR', 'SIM_DLMU', 'SIM_LENSDMU', 'SIM_PEAKMJD',\n",
       "       'PEAKMJD', 'SIM_PEAKMAG_u', 'SIM_PEAKMAG_g', 'SIM_PEAKMAG_r',\n",
       "       'SIM_PEAKMAG_i', 'SIM_PEAKMAG_z', 'SIM_PEAKMAG_y',\n",
       "       'lsstr_SNR_greater_5.0_mjd_min', 'lsstr_SNR_greater_5.0_mjd_max',\n",
       "       'lsstr_SNR_greater_5.0_numObs', 'lsstr_SNR_greater_5.0_diffmedian',\n",
       "       'lsstr_SNR_greater_5.0_diffstd', 'lssti_SNR_greater_5.0_mjd_min',\n",
       "       'lssti_SNR_greater_5.0_mjd_max', 'lssti_SNR_greater_5.0_numObs',\n",
       "       'lssti_SNR_greater_5.0_diffmedian', 'lssti_SNR_greater_5.0_diffstd',\n",
       "       'lsstu_SNR_greater_5.0_mjd_min', 'lsstu_SNR_greater_5.0_mjd_max',\n",
       "       'lsstu_SNR_greater_5.0_numObs', 'lsstu_SNR_greater_5.0_diffmedian',\n",
       "       'lsstu_SNR_greater_5.0_diffstd', 'lsstz_SNR_greater_5.0_mjd_min',\n",
       "       'lsstz_SNR_greater_5.0_mjd_max', 'lsstz_SNR_greater_5.0_numObs',\n",
       "       'lsstz_SNR_greater_5.0_diffmedian', 'lsstz_SNR_greater_5.0_diffstd',\n",
       "       'lssty_SNR_greater_5.0_mjd_min', 'lssty_SNR_greater_5.0_mjd_max',\n",
       "       'lssty_SNR_greater_5.0_numObs', 'lssty_SNR_greater_5.0_diffmedian',\n",
       "       'lssty_SNR_greater_5.0_diffstd', 'lsstg_SNR_greater_5.0_mjd_min',\n",
       "       'lsstg_SNR_greater_5.0_mjd_max', 'lsstg_SNR_greater_5.0_numObs',\n",
       "       'lsstg_SNR_greater_5.0_diffmedian', 'lsstg_SNR_greater_5.0_diffstd',\n",
       "       'lsstr_SNR_greater_5.0_SNR_max', 'lsstr_SNR_greater_5.0_SNR_median',\n",
       "       'lssti_SNR_greater_5.0_SNR_max', 'lssti_SNR_greater_5.0_SNR_median',\n",
       "       'lsstu_SNR_greater_5.0_SNR_max', 'lsstu_SNR_greater_5.0_SNR_median',\n",
       "       'lsstz_SNR_greater_5.0_SNR_max', 'lsstz_SNR_greater_5.0_SNR_median',\n",
       "       'lssty_SNR_greater_5.0_SNR_max', 'lssty_SNR_greater_5.0_SNR_median',\n",
       "       'lsstg_SNR_greater_5.0_SNR_max', 'lsstg_SNR_greater_5.0_SNR_median',\n",
       "       'lsstr_SNR_greater_5.0_SIM_MAGOBS_median',\n",
       "       'lssti_SNR_greater_5.0_SIM_MAGOBS_median',\n",
       "       'lsstu_SNR_greater_5.0_SIM_MAGOBS_median',\n",
       "       'lsstz_SNR_greater_5.0_SIM_MAGOBS_median',\n",
       "       'lssty_SNR_greater_5.0_SIM_MAGOBS_median',\n",
       "       'lsstg_SNR_greater_5.0_SIM_MAGOBS_median'],\n",
       "      dtype='object')"
      ]
     },
     "execution_count": 15,
     "metadata": {},
     "output_type": "execute_result"
    }
   ],
   "source": [
    "metrics.summary.columns"
   ]
  },
  {
   "cell_type": "markdown",
   "metadata": {},
   "source": [
    "## Scratch"
   ]
  },
  {
   "cell_type": "code",
   "execution_count": 16,
   "metadata": {},
   "outputs": [],
   "source": [
    "def diffmedian(s):\n",
    "    s.sort()\n",
    "    diffval = np.diff(s)\n",
    "    return np.nanmedian(diffval)\n",
    "\n",
    "def diffstd(s):\n",
    "    s.sort()\n",
    "    diffval = np.diff(s)\n",
    "    return np.std(diffval)\n",
    "\n"
   ]
  },
  {
   "cell_type": "code",
   "execution_count": 20,
   "metadata": {},
   "outputs": [
    {
     "ename": "AttributeError",
     "evalue": "'Series' object has no attribute 'sort'",
     "output_type": "error",
     "traceback": [
      "\u001b[0;31m---------------------------------------------------------------------------\u001b[0m",
      "\u001b[0;31mAttributeError\u001b[0m                            Traceback (most recent call last)",
      "\u001b[0;32m<ipython-input-20-4f4699047750>\u001b[0m in \u001b[0;36m<module>\u001b[0;34m()\u001b[0m\n\u001b[0;32m----> 1\u001b[0;31m \u001b[0mdiffmedian\u001b[0m\u001b[0;34m(\u001b[0m\u001b[0mphotometry\u001b[0m\u001b[0;34m.\u001b[0m\u001b[0mquery\u001b[0m\u001b[0;34m(\u001b[0m\u001b[0;34m'SNR > 10'\u001b[0m\u001b[0;34m)\u001b[0m\u001b[0;34m[\u001b[0m\u001b[0;34m'mjd'\u001b[0m\u001b[0;34m]\u001b[0m\u001b[0;34m)\u001b[0m\u001b[0;34m\u001b[0m\u001b[0m\n\u001b[0m",
      "\u001b[0;32m<ipython-input-16-7514e82df164>\u001b[0m in \u001b[0;36mdiffmedian\u001b[0;34m(s)\u001b[0m\n\u001b[1;32m      1\u001b[0m \u001b[0;32mdef\u001b[0m \u001b[0mdiffmedian\u001b[0m\u001b[0;34m(\u001b[0m\u001b[0ms\u001b[0m\u001b[0;34m)\u001b[0m\u001b[0;34m:\u001b[0m\u001b[0;34m\u001b[0m\u001b[0m\n\u001b[0;32m----> 2\u001b[0;31m     \u001b[0ms\u001b[0m\u001b[0;34m.\u001b[0m\u001b[0msort\u001b[0m\u001b[0;34m(\u001b[0m\u001b[0;34m)\u001b[0m\u001b[0;34m\u001b[0m\u001b[0m\n\u001b[0m\u001b[1;32m      3\u001b[0m     \u001b[0mdiffval\u001b[0m \u001b[0;34m=\u001b[0m \u001b[0mnp\u001b[0m\u001b[0;34m.\u001b[0m\u001b[0mdiff\u001b[0m\u001b[0;34m(\u001b[0m\u001b[0ms\u001b[0m\u001b[0;34m)\u001b[0m\u001b[0;34m\u001b[0m\u001b[0m\n\u001b[1;32m      4\u001b[0m     \u001b[0;32mreturn\u001b[0m \u001b[0mnp\u001b[0m\u001b[0;34m.\u001b[0m\u001b[0mnanmedian\u001b[0m\u001b[0;34m(\u001b[0m\u001b[0mdiffval\u001b[0m\u001b[0;34m)\u001b[0m\u001b[0;34m\u001b[0m\u001b[0m\n\u001b[1;32m      5\u001b[0m \u001b[0;34m\u001b[0m\u001b[0m\n",
      "\u001b[0;32m~/soft/mypython3/lib/python3.6/site-packages/pandas/core/generic.py\u001b[0m in \u001b[0;36m__getattr__\u001b[0;34m(self, name)\u001b[0m\n\u001b[1;32m   4374\u001b[0m             \u001b[0;32mif\u001b[0m \u001b[0mself\u001b[0m\u001b[0;34m.\u001b[0m\u001b[0m_info_axis\u001b[0m\u001b[0;34m.\u001b[0m\u001b[0m_can_hold_identifiers_and_holds_name\u001b[0m\u001b[0;34m(\u001b[0m\u001b[0mname\u001b[0m\u001b[0;34m)\u001b[0m\u001b[0;34m:\u001b[0m\u001b[0;34m\u001b[0m\u001b[0m\n\u001b[1;32m   4375\u001b[0m                 \u001b[0;32mreturn\u001b[0m \u001b[0mself\u001b[0m\u001b[0;34m[\u001b[0m\u001b[0mname\u001b[0m\u001b[0;34m]\u001b[0m\u001b[0;34m\u001b[0m\u001b[0m\n\u001b[0;32m-> 4376\u001b[0;31m             \u001b[0;32mreturn\u001b[0m \u001b[0mobject\u001b[0m\u001b[0;34m.\u001b[0m\u001b[0m__getattribute__\u001b[0m\u001b[0;34m(\u001b[0m\u001b[0mself\u001b[0m\u001b[0;34m,\u001b[0m \u001b[0mname\u001b[0m\u001b[0;34m)\u001b[0m\u001b[0;34m\u001b[0m\u001b[0m\n\u001b[0m\u001b[1;32m   4377\u001b[0m \u001b[0;34m\u001b[0m\u001b[0m\n\u001b[1;32m   4378\u001b[0m     \u001b[0;32mdef\u001b[0m \u001b[0m__setattr__\u001b[0m\u001b[0;34m(\u001b[0m\u001b[0mself\u001b[0m\u001b[0;34m,\u001b[0m \u001b[0mname\u001b[0m\u001b[0;34m,\u001b[0m \u001b[0mvalue\u001b[0m\u001b[0;34m)\u001b[0m\u001b[0;34m:\u001b[0m\u001b[0;34m\u001b[0m\u001b[0m\n",
      "\u001b[0;31mAttributeError\u001b[0m: 'Series' object has no attribute 'sort'"
     ]
    }
   ],
   "source": []
  },
  {
   "cell_type": "code",
   "execution_count": null,
   "metadata": {},
   "outputs": [],
   "source": [
    "def num_mjd_range(ss, myfilt='SNR_greater_3.0',\n",
    "                  quants=['mjd_max', 'mjd_min']):\n",
    "    \"\"\"\n",
    "    \"\"\"\n",
    "    mydict = dict()\n",
    "    required_quants = list('lsst'+ b + '_' + myfilt + '_' + quants[0] for b in list('ugrizy'))\\\n",
    "                    + list('lsst'+ b + '_' + myfilt + '_' + quants[1] for b in list('ugrizy'))\n",
    "    #return required_quants\n",
    "    for b in list('ugrizy'):\n",
    "        mykey = 'lsst' + b + '_SNR_greater_3.0_mjd_range'\n",
    "        mycalc = ss['lsst' + b + '_SNR_greater_3.0_mjd_max'] - \\\n",
    "                 ss['lsst' + b + '_SNR_greater_3.0_mjd_min']\n",
    "        mydict[mykey] = mycalc\n",
    "\n",
    "    return pd.DataFrame(mydict)"
   ]
  },
  {
   "cell_type": "code",
   "execution_count": null,
   "metadata": {},
   "outputs": [],
   "source": [
    "x = num_mjd_range(ss)"
   ]
  },
  {
   "cell_type": "code",
   "execution_count": null,
   "metadata": {},
   "outputs": [],
   "source": [
    "x['lssti_SNR_greater_3.0_mjd_range'].dropna()"
   ]
  },
  {
   "cell_type": "code",
   "execution_count": null,
   "metadata": {},
   "outputs": [],
   "source": [
    "ss[['lssti_SNR_greater_3.0_mjd_max', 'lssti_SNR_greater_3.0_mjd_min']].dropna()"
   ]
  },
  {
   "cell_type": "code",
   "execution_count": null,
   "metadata": {},
   "outputs": [],
   "source": [
    "ss['total_numObs'] = ss[x].sum()"
   ]
  },
  {
   "cell_type": "code",
   "execution_count": null,
   "metadata": {},
   "outputs": [],
   "source": []
  },
  {
   "cell_type": "code",
   "execution_count": null,
   "metadata": {},
   "outputs": [],
   "source": [
    "dfs_mjd"
   ]
  },
  {
   "cell_type": "code",
   "execution_count": null,
   "metadata": {},
   "outputs": [],
   "source": [
    "list(dfs_mjd[b]['min']"
   ]
  },
  {
   "cell_type": "code",
   "execution_count": null,
   "metadata": {},
   "outputs": [],
   "source": [
    "import numpy as np"
   ]
  },
  {
   "cell_type": "code",
   "execution_count": null,
   "metadata": {},
   "outputs": [],
   "source": [
    "np.nanmin([3, 2, np.nan])"
   ]
  },
  {
   "cell_type": "code",
   "execution_count": null,
   "metadata": {},
   "outputs": [],
   "source": [
    "np.nanmedian([6, 2, np.nan])"
   ]
  },
  {
   "cell_type": "code",
   "execution_count": null,
   "metadata": {},
   "outputs": [],
   "source": [
    "df = pd.DataFrame(dict(x=[1, 3, np.nan]))"
   ]
  },
  {
   "cell_type": "code",
   "execution_count": null,
   "metadata": {},
   "outputs": [],
   "source": [
    "df['vals']"
   ]
  },
  {
   "cell_type": "code",
   "execution_count": null,
   "metadata": {},
   "outputs": [],
   "source": [
    "x = np.array([1, 2])"
   ]
  },
  {
   "cell_type": "code",
   "execution_count": null,
   "metadata": {},
   "outputs": [],
   "source": [
    "x.sort()"
   ]
  },
  {
   "cell_type": "code",
   "execution_count": null,
   "metadata": {},
   "outputs": [],
   "source": [
    "x"
   ]
  },
  {
   "cell_type": "code",
   "execution_count": null,
   "metadata": {},
   "outputs": [],
   "source": [
    "np.std(np.diff(x))"
   ]
  },
  {
   "cell_type": "code",
   "execution_count": null,
   "metadata": {},
   "outputs": [],
   "source": [
    "np.var(x)"
   ]
  },
  {
   "cell_type": "code",
   "execution_count": null,
   "metadata": {},
   "outputs": [],
   "source": []
  }
 ],
 "metadata": {
  "kernelspec": {
   "display_name": "Python 3",
   "language": "python",
   "name": "python3"
  },
  "language_info": {
   "codemirror_mode": {
    "name": "ipython",
    "version": 3
   },
   "file_extension": ".py",
   "mimetype": "text/x-python",
   "name": "python",
   "nbconvert_exporter": "python",
   "pygments_lexer": "ipython3",
   "version": "3.6.5"
  }
 },
 "nbformat": 4,
 "nbformat_minor": 2
}
