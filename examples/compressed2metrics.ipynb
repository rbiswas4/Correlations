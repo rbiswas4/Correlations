{
 "cells": [
  {
   "cell_type": "code",
   "execution_count": 1,
   "metadata": {},
   "outputs": [],
   "source": [
    "import pandas as pd\n",
    "from pandas import HDFStore"
   ]
  },
  {
   "cell_type": "code",
   "execution_count": 2,
   "metadata": {},
   "outputs": [],
   "source": [
    "from lcfeats import Metrics, Features"
   ]
  },
  {
   "cell_type": "code",
   "execution_count": 3,
   "metadata": {},
   "outputs": [],
   "source": [
    "summarystore = HDFStore('../scripts/LSST_WFD_kraken_2026_MODEL11_compressed/summary_head.hdf')"
   ]
  },
  {
   "cell_type": "code",
   "execution_count": 4,
   "metadata": {},
   "outputs": [],
   "source": [
    "photstore = HDFStore('../scripts/LSST_WFD_kraken_2026_MODEL11_compressed/summary_phot.hdf')"
   ]
  },
  {
   "cell_type": "code",
   "execution_count": 5,
   "metadata": {},
   "outputs": [],
   "source": [
    "keys = summarystore.keys()"
   ]
  },
  {
   "cell_type": "code",
   "execution_count": 6,
   "metadata": {
    "scrolled": true
   },
   "outputs": [
    {
     "name": "stderr",
     "output_type": "stream",
     "text": [
      "/Users/rbiswas/soft/mypython3/lib/python3.6/site-packages/numpy/lib/nanfunctions.py:717: RuntimeWarning: All-NaN slice encountered\n",
      "  warnings.warn(\"All-NaN slice encountered\", RuntimeWarning)\n"
     ]
    },
    {
     "name": "stdout",
     "output_type": "stream",
     "text": [
      "Index(['lsstg_SNR_greater_5.0_mjd_min', 'lsstg_SNR_greater_5.0_mjd_max',\n",
      "       'lsstg_SNR_greater_5.0_numObs', 'lsstg_SNR_greater_5.0_diffmedian',\n",
      "       'lsstg_SNR_greater_5.0_diffstd'],\n",
      "      dtype='object')\n",
      "Index(['SNID', 'SUBSURVEY', 'IAUC', 'FAKE', 'RA', 'DECL', 'PIXSIZE', 'NXPIX',\n",
      "       'NYPIX', 'CCDNUM', 'SNTYPE', 'NOBS', 'PTROBS_MIN', 'PTROBS_MAX',\n",
      "       'MWEBV', 'MWEBV_ERR', 'REDSHIFT_HELIO', 'REDSHIFT_HELIO_ERR',\n",
      "       'REDSHIFT_FINAL', 'REDSHIFT_FINAL_ERR', 'VPEC', 'VPEC_ERR',\n",
      "       'HOSTGAL_OBJID', 'HOSTGAL_PHOTOZ', 'HOSTGAL_PHOTOZ_ERR',\n",
      "       'HOSTGAL_SPECZ', 'HOSTGAL_SPECZ_ERR', 'HOSTGAL_SNSEP',\n",
      "       'HOSTGAL_LOGMASS', 'HOSTGAL_LOGMASS_ERR', 'HOSTGAL_MAG_u',\n",
      "       'HOSTGAL_MAG_g', 'HOSTGAL_MAG_r', 'HOSTGAL_MAG_i', 'HOSTGAL_MAG_z',\n",
      "       'HOSTGAL_MAG_Y', 'HOSTGAL_SB_FLUXCAL_u', 'HOSTGAL_SB_FLUXCAL_g',\n",
      "       'HOSTGAL_SB_FLUXCAL_r', 'HOSTGAL_SB_FLUXCAL_i', 'HOSTGAL_SB_FLUXCAL_z',\n",
      "       'HOSTGAL_SB_FLUXCAL_Y', 'PEAKMJD', 'SEARCH_TYPE', 'SIM_MODEL_NAME',\n",
      "       'SIM_MODEL_INDEX', 'SIM_TYPE_INDEX', 'SIM_TYPE_NAME',\n",
      "       'SIM_TEMPLATE_INDEX', 'SIM_LIBID', 'SIM_NGEN_LIBID',\n",
      "       'SIM_NOBS_UNDEFINED', 'SIM_SEARCHEFF_MASK', 'SIM_REDSHIFT_HELIO',\n",
      "       'SIM_REDSHIFT_CMB', 'SIM_REDSHIFT_HOST', 'SIM_VPEC', 'SIM_DLMU',\n",
      "       'SIM_LENSDMU', 'SIM_RA', 'SIM_DECL', 'SIM_MWEBV', 'SIM_PEAKMJD',\n",
      "       'SIM_MAGSMEAR_COH', 'SIM_AV', 'SIM_RV', 'SIM_SALT2x0', 'SIM_SALT2x1',\n",
      "       'SIM_SALT2c', 'SIM_SALT2mB', 'SIM_SALT2alpha', 'SIM_SALT2beta',\n",
      "       'SIM_PEAKMAG_u', 'SIM_PEAKMAG_g', 'SIM_PEAKMAG_r', 'SIM_PEAKMAG_i',\n",
      "       'SIM_PEAKMAG_z', 'SIM_PEAKMAG_Y', 'SIM_EXPOSURE_u', 'SIM_EXPOSURE_g',\n",
      "       'SIM_EXPOSURE_r', 'SIM_EXPOSURE_i', 'SIM_EXPOSURE_z', 'SIM_EXPOSURE_Y',\n",
      "       'SIM_GALFRAC_u', 'SIM_GALFRAC_g', 'SIM_GALFRAC_r', 'SIM_GALFRAC_i',\n",
      "       'SIM_GALFRAC_z', 'SIM_GALFRAC_Y', 'SIM_SUBSAMPLE_INDEX'],\n",
      "      dtype='object')\n",
      "Index(['lssti_SNR_greater_5.0_mjd_min', 'lssti_SNR_greater_5.0_mjd_max',\n",
      "       'lssti_SNR_greater_5.0_numObs', 'lssti_SNR_greater_5.0_diffmedian',\n",
      "       'lssti_SNR_greater_5.0_diffstd'],\n",
      "      dtype='object')\n",
      "Index(['SNID', 'SUBSURVEY', 'IAUC', 'FAKE', 'RA', 'DECL', 'PIXSIZE', 'NXPIX',\n",
      "       'NYPIX', 'CCDNUM', 'SNTYPE', 'NOBS', 'PTROBS_MIN', 'PTROBS_MAX',\n",
      "       'MWEBV', 'MWEBV_ERR', 'REDSHIFT_HELIO', 'REDSHIFT_HELIO_ERR',\n",
      "       'REDSHIFT_FINAL', 'REDSHIFT_FINAL_ERR', 'VPEC', 'VPEC_ERR',\n",
      "       'HOSTGAL_OBJID', 'HOSTGAL_PHOTOZ', 'HOSTGAL_PHOTOZ_ERR',\n",
      "       'HOSTGAL_SPECZ', 'HOSTGAL_SPECZ_ERR', 'HOSTGAL_SNSEP',\n",
      "       'HOSTGAL_LOGMASS', 'HOSTGAL_LOGMASS_ERR', 'HOSTGAL_MAG_u',\n",
      "       'HOSTGAL_MAG_g', 'HOSTGAL_MAG_r', 'HOSTGAL_MAG_i', 'HOSTGAL_MAG_z',\n",
      "       'HOSTGAL_MAG_Y', 'HOSTGAL_SB_FLUXCAL_u', 'HOSTGAL_SB_FLUXCAL_g',\n",
      "       'HOSTGAL_SB_FLUXCAL_r', 'HOSTGAL_SB_FLUXCAL_i', 'HOSTGAL_SB_FLUXCAL_z',\n",
      "       'HOSTGAL_SB_FLUXCAL_Y', 'PEAKMJD', 'SEARCH_TYPE', 'SIM_MODEL_NAME',\n",
      "       'SIM_MODEL_INDEX', 'SIM_TYPE_INDEX', 'SIM_TYPE_NAME',\n",
      "       'SIM_TEMPLATE_INDEX', 'SIM_LIBID', 'SIM_NGEN_LIBID',\n",
      "       'SIM_NOBS_UNDEFINED', 'SIM_SEARCHEFF_MASK', 'SIM_REDSHIFT_HELIO',\n",
      "       'SIM_REDSHIFT_CMB', 'SIM_REDSHIFT_HOST', 'SIM_VPEC', 'SIM_DLMU',\n",
      "       'SIM_LENSDMU', 'SIM_RA', 'SIM_DECL', 'SIM_MWEBV', 'SIM_PEAKMJD',\n",
      "       'SIM_MAGSMEAR_COH', 'SIM_AV', 'SIM_RV', 'SIM_SALT2x0', 'SIM_SALT2x1',\n",
      "       'SIM_SALT2c', 'SIM_SALT2mB', 'SIM_SALT2alpha', 'SIM_SALT2beta',\n",
      "       'SIM_PEAKMAG_u', 'SIM_PEAKMAG_g', 'SIM_PEAKMAG_r', 'SIM_PEAKMAG_i',\n",
      "       'SIM_PEAKMAG_z', 'SIM_PEAKMAG_Y', 'SIM_EXPOSURE_u', 'SIM_EXPOSURE_g',\n",
      "       'SIM_EXPOSURE_r', 'SIM_EXPOSURE_i', 'SIM_EXPOSURE_z', 'SIM_EXPOSURE_Y',\n",
      "       'SIM_GALFRAC_u', 'SIM_GALFRAC_g', 'SIM_GALFRAC_r', 'SIM_GALFRAC_i',\n",
      "       'SIM_GALFRAC_z', 'SIM_GALFRAC_Y', 'SIM_SUBSAMPLE_INDEX',\n",
      "       'lsstg_SNR_greater_5.0_mjd_min', 'lsstg_SNR_greater_5.0_mjd_max',\n",
      "       'lsstg_SNR_greater_5.0_numObs', 'lsstg_SNR_greater_5.0_diffmedian',\n",
      "       'lsstg_SNR_greater_5.0_diffstd'],\n",
      "      dtype='object')\n",
      "Index(['lsstr_SNR_greater_5.0_mjd_min', 'lsstr_SNR_greater_5.0_mjd_max',\n",
      "       'lsstr_SNR_greater_5.0_numObs', 'lsstr_SNR_greater_5.0_diffmedian',\n",
      "       'lsstr_SNR_greater_5.0_diffstd'],\n",
      "      dtype='object')\n",
      "Index(['SNID', 'SUBSURVEY', 'IAUC', 'FAKE', 'RA', 'DECL', 'PIXSIZE', 'NXPIX',\n",
      "       'NYPIX', 'CCDNUM',\n",
      "       ...\n",
      "       'lsstg_SNR_greater_5.0_mjd_min', 'lsstg_SNR_greater_5.0_mjd_max',\n",
      "       'lsstg_SNR_greater_5.0_numObs', 'lsstg_SNR_greater_5.0_diffmedian',\n",
      "       'lsstg_SNR_greater_5.0_diffstd', 'lssti_SNR_greater_5.0_mjd_min',\n",
      "       'lssti_SNR_greater_5.0_mjd_max', 'lssti_SNR_greater_5.0_numObs',\n",
      "       'lssti_SNR_greater_5.0_diffmedian', 'lssti_SNR_greater_5.0_diffstd'],\n",
      "      dtype='object', length=101)\n",
      "Index(['lsstz_SNR_greater_5.0_mjd_min', 'lsstz_SNR_greater_5.0_mjd_max',\n",
      "       'lsstz_SNR_greater_5.0_numObs', 'lsstz_SNR_greater_5.0_diffmedian',\n",
      "       'lsstz_SNR_greater_5.0_diffstd'],\n",
      "      dtype='object')\n",
      "Index(['SNID', 'SUBSURVEY', 'IAUC', 'FAKE', 'RA', 'DECL', 'PIXSIZE', 'NXPIX',\n",
      "       'NYPIX', 'CCDNUM',\n",
      "       ...\n",
      "       'lssti_SNR_greater_5.0_mjd_min', 'lssti_SNR_greater_5.0_mjd_max',\n",
      "       'lssti_SNR_greater_5.0_numObs', 'lssti_SNR_greater_5.0_diffmedian',\n",
      "       'lssti_SNR_greater_5.0_diffstd', 'lsstr_SNR_greater_5.0_mjd_min',\n",
      "       'lsstr_SNR_greater_5.0_mjd_max', 'lsstr_SNR_greater_5.0_numObs',\n",
      "       'lsstr_SNR_greater_5.0_diffmedian', 'lsstr_SNR_greater_5.0_diffstd'],\n",
      "      dtype='object', length=106)\n",
      "Index(['lssty_SNR_greater_5.0_mjd_min', 'lssty_SNR_greater_5.0_mjd_max',\n",
      "       'lssty_SNR_greater_5.0_numObs', 'lssty_SNR_greater_5.0_diffmedian',\n",
      "       'lssty_SNR_greater_5.0_diffstd'],\n",
      "      dtype='object')\n",
      "Index(['SNID', 'SUBSURVEY', 'IAUC', 'FAKE', 'RA', 'DECL', 'PIXSIZE', 'NXPIX',\n",
      "       'NYPIX', 'CCDNUM',\n",
      "       ...\n",
      "       'lsstr_SNR_greater_5.0_mjd_min', 'lsstr_SNR_greater_5.0_mjd_max',\n",
      "       'lsstr_SNR_greater_5.0_numObs', 'lsstr_SNR_greater_5.0_diffmedian',\n",
      "       'lsstr_SNR_greater_5.0_diffstd', 'lsstz_SNR_greater_5.0_mjd_min',\n",
      "       'lsstz_SNR_greater_5.0_mjd_max', 'lsstz_SNR_greater_5.0_numObs',\n",
      "       'lsstz_SNR_greater_5.0_diffmedian', 'lsstz_SNR_greater_5.0_diffstd'],\n",
      "      dtype='object', length=111)\n",
      "Index(['lsstu_SNR_greater_5.0_mjd_min', 'lsstu_SNR_greater_5.0_mjd_max',\n",
      "       'lsstu_SNR_greater_5.0_numObs', 'lsstu_SNR_greater_5.0_diffmedian',\n",
      "       'lsstu_SNR_greater_5.0_diffstd'],\n",
      "      dtype='object')\n",
      "Index(['SNID', 'SUBSURVEY', 'IAUC', 'FAKE', 'RA', 'DECL', 'PIXSIZE', 'NXPIX',\n",
      "       'NYPIX', 'CCDNUM',\n",
      "       ...\n",
      "       'lsstz_SNR_greater_5.0_mjd_min', 'lsstz_SNR_greater_5.0_mjd_max',\n",
      "       'lsstz_SNR_greater_5.0_numObs', 'lsstz_SNR_greater_5.0_diffmedian',\n",
      "       'lsstz_SNR_greater_5.0_diffstd', 'lssty_SNR_greater_5.0_mjd_min',\n",
      "       'lssty_SNR_greater_5.0_mjd_max', 'lssty_SNR_greater_5.0_numObs',\n",
      "       'lssty_SNR_greater_5.0_diffmedian', 'lssty_SNR_greater_5.0_diffstd'],\n",
      "      dtype='object', length=116)\n",
      "Index(['lssti_SNR_greater_5.0_mjd_min', 'lssti_SNR_greater_5.0_mjd_max',\n",
      "       'lssti_SNR_greater_5.0_numObs', 'lssti_SNR_greater_5.0_diffmedian',\n",
      "       'lssti_SNR_greater_5.0_diffstd'],\n",
      "      dtype='object')\n",
      "Index(['SNID', 'SUBSURVEY', 'IAUC', 'FAKE', 'RA', 'DECL', 'PIXSIZE', 'NXPIX',\n",
      "       'NYPIX', 'CCDNUM', 'SNTYPE', 'NOBS', 'PTROBS_MIN', 'PTROBS_MAX',\n",
      "       'MWEBV', 'MWEBV_ERR', 'REDSHIFT_HELIO', 'REDSHIFT_HELIO_ERR',\n",
      "       'REDSHIFT_FINAL', 'REDSHIFT_FINAL_ERR', 'VPEC', 'VPEC_ERR',\n",
      "       'HOSTGAL_OBJID', 'HOSTGAL_PHOTOZ', 'HOSTGAL_PHOTOZ_ERR',\n",
      "       'HOSTGAL_SPECZ', 'HOSTGAL_SPECZ_ERR', 'HOSTGAL_SNSEP',\n",
      "       'HOSTGAL_LOGMASS', 'HOSTGAL_LOGMASS_ERR', 'HOSTGAL_MAG_u',\n",
      "       'HOSTGAL_MAG_g', 'HOSTGAL_MAG_r', 'HOSTGAL_MAG_i', 'HOSTGAL_MAG_z',\n",
      "       'HOSTGAL_MAG_Y', 'HOSTGAL_SB_FLUXCAL_u', 'HOSTGAL_SB_FLUXCAL_g',\n",
      "       'HOSTGAL_SB_FLUXCAL_r', 'HOSTGAL_SB_FLUXCAL_i', 'HOSTGAL_SB_FLUXCAL_z',\n",
      "       'HOSTGAL_SB_FLUXCAL_Y', 'PEAKMJD', 'SEARCH_TYPE', 'SIM_MODEL_NAME',\n",
      "       'SIM_MODEL_INDEX', 'SIM_TYPE_INDEX', 'SIM_TYPE_NAME',\n",
      "       'SIM_TEMPLATE_INDEX', 'SIM_LIBID', 'SIM_NGEN_LIBID',\n",
      "       'SIM_NOBS_UNDEFINED', 'SIM_SEARCHEFF_MASK', 'SIM_REDSHIFT_HELIO',\n",
      "       'SIM_REDSHIFT_CMB', 'SIM_REDSHIFT_HOST', 'SIM_VPEC', 'SIM_DLMU',\n",
      "       'SIM_LENSDMU', 'SIM_RA', 'SIM_DECL', 'SIM_MWEBV', 'SIM_PEAKMJD',\n",
      "       'SIM_MAGSMEAR_COH', 'SIM_AV', 'SIM_RV', 'SIM_SALT2x0', 'SIM_SALT2x1',\n",
      "       'SIM_SALT2c', 'SIM_SALT2mB', 'SIM_SALT2alpha', 'SIM_SALT2beta',\n",
      "       'SIM_PEAKMAG_u', 'SIM_PEAKMAG_g', 'SIM_PEAKMAG_r', 'SIM_PEAKMAG_i',\n",
      "       'SIM_PEAKMAG_z', 'SIM_PEAKMAG_Y', 'SIM_EXPOSURE_u', 'SIM_EXPOSURE_g',\n",
      "       'SIM_EXPOSURE_r', 'SIM_EXPOSURE_i', 'SIM_EXPOSURE_z', 'SIM_EXPOSURE_Y',\n",
      "       'SIM_GALFRAC_u', 'SIM_GALFRAC_g', 'SIM_GALFRAC_r', 'SIM_GALFRAC_i',\n",
      "       'SIM_GALFRAC_z', 'SIM_GALFRAC_Y', 'SIM_SUBSAMPLE_INDEX'],\n",
      "      dtype='object')\n",
      "Index(['lsstr_SNR_greater_5.0_mjd_min', 'lsstr_SNR_greater_5.0_mjd_max',\n",
      "       'lsstr_SNR_greater_5.0_numObs', 'lsstr_SNR_greater_5.0_diffmedian',\n",
      "       'lsstr_SNR_greater_5.0_diffstd'],\n",
      "      dtype='object')\n",
      "Index(['SNID', 'SUBSURVEY', 'IAUC', 'FAKE', 'RA', 'DECL', 'PIXSIZE', 'NXPIX',\n",
      "       'NYPIX', 'CCDNUM', 'SNTYPE', 'NOBS', 'PTROBS_MIN', 'PTROBS_MAX',\n",
      "       'MWEBV', 'MWEBV_ERR', 'REDSHIFT_HELIO', 'REDSHIFT_HELIO_ERR',\n",
      "       'REDSHIFT_FINAL', 'REDSHIFT_FINAL_ERR', 'VPEC', 'VPEC_ERR',\n",
      "       'HOSTGAL_OBJID', 'HOSTGAL_PHOTOZ', 'HOSTGAL_PHOTOZ_ERR',\n",
      "       'HOSTGAL_SPECZ', 'HOSTGAL_SPECZ_ERR', 'HOSTGAL_SNSEP',\n",
      "       'HOSTGAL_LOGMASS', 'HOSTGAL_LOGMASS_ERR', 'HOSTGAL_MAG_u',\n",
      "       'HOSTGAL_MAG_g', 'HOSTGAL_MAG_r', 'HOSTGAL_MAG_i', 'HOSTGAL_MAG_z',\n",
      "       'HOSTGAL_MAG_Y', 'HOSTGAL_SB_FLUXCAL_u', 'HOSTGAL_SB_FLUXCAL_g',\n",
      "       'HOSTGAL_SB_FLUXCAL_r', 'HOSTGAL_SB_FLUXCAL_i', 'HOSTGAL_SB_FLUXCAL_z',\n",
      "       'HOSTGAL_SB_FLUXCAL_Y', 'PEAKMJD', 'SEARCH_TYPE', 'SIM_MODEL_NAME',\n",
      "       'SIM_MODEL_INDEX', 'SIM_TYPE_INDEX', 'SIM_TYPE_NAME',\n",
      "       'SIM_TEMPLATE_INDEX', 'SIM_LIBID', 'SIM_NGEN_LIBID',\n",
      "       'SIM_NOBS_UNDEFINED', 'SIM_SEARCHEFF_MASK', 'SIM_REDSHIFT_HELIO',\n",
      "       'SIM_REDSHIFT_CMB', 'SIM_REDSHIFT_HOST', 'SIM_VPEC', 'SIM_DLMU',\n",
      "       'SIM_LENSDMU', 'SIM_RA', 'SIM_DECL', 'SIM_MWEBV', 'SIM_PEAKMJD',\n",
      "       'SIM_MAGSMEAR_COH', 'SIM_AV', 'SIM_RV', 'SIM_SALT2x0', 'SIM_SALT2x1',\n",
      "       'SIM_SALT2c', 'SIM_SALT2mB', 'SIM_SALT2alpha', 'SIM_SALT2beta',\n",
      "       'SIM_PEAKMAG_u', 'SIM_PEAKMAG_g', 'SIM_PEAKMAG_r', 'SIM_PEAKMAG_i',\n",
      "       'SIM_PEAKMAG_z', 'SIM_PEAKMAG_Y', 'SIM_EXPOSURE_u', 'SIM_EXPOSURE_g',\n",
      "       'SIM_EXPOSURE_r', 'SIM_EXPOSURE_i', 'SIM_EXPOSURE_z', 'SIM_EXPOSURE_Y',\n",
      "       'SIM_GALFRAC_u', 'SIM_GALFRAC_g', 'SIM_GALFRAC_r', 'SIM_GALFRAC_i',\n",
      "       'SIM_GALFRAC_z', 'SIM_GALFRAC_Y', 'SIM_SUBSAMPLE_INDEX',\n",
      "       'lssti_SNR_greater_5.0_mjd_min', 'lssti_SNR_greater_5.0_mjd_max',\n",
      "       'lssti_SNR_greater_5.0_numObs', 'lssti_SNR_greater_5.0_diffmedian',\n",
      "       'lssti_SNR_greater_5.0_diffstd'],\n",
      "      dtype='object')\n",
      "Index(['lsstz_SNR_greater_5.0_mjd_min', 'lsstz_SNR_greater_5.0_mjd_max',\n",
      "       'lsstz_SNR_greater_5.0_numObs', 'lsstz_SNR_greater_5.0_diffmedian',\n",
      "       'lsstz_SNR_greater_5.0_diffstd'],\n",
      "      dtype='object')\n",
      "Index(['SNID', 'SUBSURVEY', 'IAUC', 'FAKE', 'RA', 'DECL', 'PIXSIZE', 'NXPIX',\n",
      "       'NYPIX', 'CCDNUM',\n",
      "       ...\n",
      "       'lssti_SNR_greater_5.0_mjd_min', 'lssti_SNR_greater_5.0_mjd_max',\n",
      "       'lssti_SNR_greater_5.0_numObs', 'lssti_SNR_greater_5.0_diffmedian',\n",
      "       'lssti_SNR_greater_5.0_diffstd', 'lsstr_SNR_greater_5.0_mjd_min',\n",
      "       'lsstr_SNR_greater_5.0_mjd_max', 'lsstr_SNR_greater_5.0_numObs',\n",
      "       'lsstr_SNR_greater_5.0_diffmedian', 'lsstr_SNR_greater_5.0_diffstd'],\n",
      "      dtype='object', length=101)\n",
      "Index(['lsstg_SNR_greater_5.0_mjd_min', 'lsstg_SNR_greater_5.0_mjd_max',\n",
      "       'lsstg_SNR_greater_5.0_numObs', 'lsstg_SNR_greater_5.0_diffmedian',\n",
      "       'lsstg_SNR_greater_5.0_diffstd'],\n",
      "      dtype='object')\n",
      "Index(['SNID', 'SUBSURVEY', 'IAUC', 'FAKE', 'RA', 'DECL', 'PIXSIZE', 'NXPIX',\n",
      "       'NYPIX', 'CCDNUM',\n",
      "       ...\n",
      "       'lsstr_SNR_greater_5.0_mjd_min', 'lsstr_SNR_greater_5.0_mjd_max',\n",
      "       'lsstr_SNR_greater_5.0_numObs', 'lsstr_SNR_greater_5.0_diffmedian',\n",
      "       'lsstr_SNR_greater_5.0_diffstd', 'lsstz_SNR_greater_5.0_mjd_min',\n",
      "       'lsstz_SNR_greater_5.0_mjd_max', 'lsstz_SNR_greater_5.0_numObs',\n",
      "       'lsstz_SNR_greater_5.0_diffmedian', 'lsstz_SNR_greater_5.0_diffstd'],\n",
      "      dtype='object', length=106)\n",
      "Index(['lsstu_SNR_greater_5.0_mjd_min', 'lsstu_SNR_greater_5.0_mjd_max',\n",
      "       'lsstu_SNR_greater_5.0_numObs', 'lsstu_SNR_greater_5.0_diffmedian',\n",
      "       'lsstu_SNR_greater_5.0_diffstd'],\n",
      "      dtype='object')\n",
      "Index(['SNID', 'SUBSURVEY', 'IAUC', 'FAKE', 'RA', 'DECL', 'PIXSIZE', 'NXPIX',\n",
      "       'NYPIX', 'CCDNUM',\n",
      "       ...\n",
      "       'lsstz_SNR_greater_5.0_mjd_min', 'lsstz_SNR_greater_5.0_mjd_max',\n",
      "       'lsstz_SNR_greater_5.0_numObs', 'lsstz_SNR_greater_5.0_diffmedian',\n",
      "       'lsstz_SNR_greater_5.0_diffstd', 'lsstg_SNR_greater_5.0_mjd_min',\n",
      "       'lsstg_SNR_greater_5.0_mjd_max', 'lsstg_SNR_greater_5.0_numObs',\n",
      "       'lsstg_SNR_greater_5.0_diffmedian', 'lsstg_SNR_greater_5.0_diffstd'],\n",
      "      dtype='object', length=111)\n",
      "Index(['lssty_SNR_greater_5.0_mjd_min', 'lssty_SNR_greater_5.0_mjd_max',\n",
      "       'lssty_SNR_greater_5.0_numObs', 'lssty_SNR_greater_5.0_diffmedian',\n",
      "       'lssty_SNR_greater_5.0_diffstd'],\n",
      "      dtype='object')\n",
      "Index(['SNID', 'SUBSURVEY', 'IAUC', 'FAKE', 'RA', 'DECL', 'PIXSIZE', 'NXPIX',\n",
      "       'NYPIX', 'CCDNUM',\n",
      "       ...\n",
      "       'lsstg_SNR_greater_5.0_mjd_min', 'lsstg_SNR_greater_5.0_mjd_max',\n",
      "       'lsstg_SNR_greater_5.0_numObs', 'lsstg_SNR_greater_5.0_diffmedian',\n",
      "       'lsstg_SNR_greater_5.0_diffstd', 'lsstu_SNR_greater_5.0_mjd_min',\n",
      "       'lsstu_SNR_greater_5.0_mjd_max', 'lsstu_SNR_greater_5.0_numObs',\n",
      "       'lsstu_SNR_greater_5.0_diffmedian', 'lsstu_SNR_greater_5.0_diffstd'],\n",
      "      dtype='object', length=116)\n"
     ]
    }
   ],
   "source": [
    "for key in keys[:2]:\n",
    "    summary = summarystore.get(key)\n",
    "    photometry = photstore.get(key)\n",
    "    photometry['SNR'] = photometry['flux'] / photometry['fluxerr']\n",
    "    fts = Features(summary=summary, photometry=photometry)\n",
    "    ss = fts.add_singleband_quants(fts.photometry,\n",
    "                                   fts.summary,\n",
    "                                   SNR_thresh=5.0)\n",
    "    outfile = 'test_metrics_{}.csv'.format(key[1:])\n",
    "    metrics = Metrics(ss, photometry, outfile)\n",
    "    metrics.summary.to_csv(outfile)"
   ]
  },
  {
   "cell_type": "code",
   "execution_count": 7,
   "metadata": {},
   "outputs": [],
   "source": [
    "import sncosmo"
   ]
  },
  {
   "cell_type": "code",
   "execution_count": 8,
   "metadata": {},
   "outputs": [
    {
     "data": {
      "text/plain": [
       "sncosmo._deprecated.SFD98Map"
      ]
     },
     "execution_count": 8,
     "metadata": {},
     "output_type": "execute_result"
    }
   ],
   "source": [
    "sncosmo.SFD98Map\n"
   ]
  },
  {
   "cell_type": "code",
   "execution_count": 9,
   "metadata": {},
   "outputs": [
    {
     "name": "stderr",
     "output_type": "stream",
     "text": [
      "/Users/rbiswas/soft/mypython3/lib/python3.6/site-packages/sncosmo/_deprecated.py:51: UserWarning: SFD98Map and get_ebv_from_map is deprecated in sncosmo 1.4 and will be removed in sncosmo 2.0 Instead, use `SFDMap` and `ebv` from the sfdmap package: http://github.com/kbarbary/sfdmap.\n",
      "  \"Instead, use `SFDMap` and `ebv` from the sfdmap package: \"\n"
     ]
    },
    {
     "ename": "TypeError",
     "evalue": "expected str, bytes or os.PathLike object, not NoneType",
     "output_type": "error",
     "traceback": [
      "\u001b[0;31m---------------------------------------------------------------------------\u001b[0m",
      "\u001b[0;31mTypeError\u001b[0m                                 Traceback (most recent call last)",
      "\u001b[0;32m<ipython-input-9-81782480044b>\u001b[0m in \u001b[0;36m<module>\u001b[0;34m()\u001b[0m\n\u001b[0;32m----> 1\u001b[0;31m \u001b[0msncosmo\u001b[0m\u001b[0;34m.\u001b[0m\u001b[0mget_ebv_from_map\u001b[0m\u001b[0;34m(\u001b[0m\u001b[0;34m(\u001b[0m\u001b[0;36m55.\u001b[0m\u001b[0;34m,\u001b[0m \u001b[0;34m-\u001b[0m\u001b[0;36m27.\u001b[0m\u001b[0;34m)\u001b[0m\u001b[0;34m)\u001b[0m\u001b[0;34m\u001b[0m\u001b[0;34m\u001b[0m\u001b[0m\n\u001b[0m",
      "\u001b[0;32m~/soft/mypython3/lib/python3.6/site-packages/sncosmo/_deprecated.py\u001b[0m in \u001b[0;36mget_ebv_from_map\u001b[0;34m(coordinates, mapdir, interpolate, order)\u001b[0m\n\u001b[1;32m    171\u001b[0m     \"\"\"\n\u001b[1;32m    172\u001b[0m \u001b[0;34m\u001b[0m\u001b[0m\n\u001b[0;32m--> 173\u001b[0;31m     \u001b[0mm\u001b[0m \u001b[0;34m=\u001b[0m \u001b[0mSFD98Map\u001b[0m\u001b[0;34m(\u001b[0m\u001b[0mmapdir\u001b[0m\u001b[0;34m=\u001b[0m\u001b[0mmapdir\u001b[0m\u001b[0;34m)\u001b[0m\u001b[0;34m\u001b[0m\u001b[0;34m\u001b[0m\u001b[0m\n\u001b[0m\u001b[1;32m    174\u001b[0m     \u001b[0;32mreturn\u001b[0m \u001b[0mm\u001b[0m\u001b[0;34m.\u001b[0m\u001b[0mget_ebv\u001b[0m\u001b[0;34m(\u001b[0m\u001b[0mcoordinates\u001b[0m\u001b[0;34m,\u001b[0m \u001b[0minterpolate\u001b[0m\u001b[0;34m=\u001b[0m\u001b[0minterpolate\u001b[0m\u001b[0;34m,\u001b[0m \u001b[0morder\u001b[0m\u001b[0;34m=\u001b[0m\u001b[0morder\u001b[0m\u001b[0;34m)\u001b[0m\u001b[0;34m\u001b[0m\u001b[0;34m\u001b[0m\u001b[0m\n\u001b[1;32m    175\u001b[0m \u001b[0;34m\u001b[0m\u001b[0m\n",
      "\u001b[0;32m~/soft/mypython3/lib/python3.6/site-packages/sncosmo/_deprecated.py\u001b[0m in \u001b[0;36m__init__\u001b[0;34m(self, mapdir)\u001b[0m\n\u001b[1;32m     55\u001b[0m         \u001b[0;32mif\u001b[0m \u001b[0mmapdir\u001b[0m \u001b[0;32mis\u001b[0m \u001b[0;32mNone\u001b[0m\u001b[0;34m:\u001b[0m\u001b[0;34m\u001b[0m\u001b[0;34m\u001b[0m\u001b[0m\n\u001b[1;32m     56\u001b[0m             \u001b[0mmapdir\u001b[0m \u001b[0;34m=\u001b[0m \u001b[0mconf\u001b[0m\u001b[0;34m.\u001b[0m\u001b[0msfd98_dir\u001b[0m\u001b[0;34m\u001b[0m\u001b[0;34m\u001b[0m\u001b[0m\n\u001b[0;32m---> 57\u001b[0;31m         \u001b[0mmapdir\u001b[0m \u001b[0;34m=\u001b[0m \u001b[0mos\u001b[0m\u001b[0;34m.\u001b[0m\u001b[0mpath\u001b[0m\u001b[0;34m.\u001b[0m\u001b[0mexpanduser\u001b[0m\u001b[0;34m(\u001b[0m\u001b[0mmapdir\u001b[0m\u001b[0;34m)\u001b[0m\u001b[0;34m\u001b[0m\u001b[0;34m\u001b[0m\u001b[0m\n\u001b[0m\u001b[1;32m     58\u001b[0m         \u001b[0mmapdir\u001b[0m \u001b[0;34m=\u001b[0m \u001b[0mos\u001b[0m\u001b[0;34m.\u001b[0m\u001b[0mpath\u001b[0m\u001b[0;34m.\u001b[0m\u001b[0mexpandvars\u001b[0m\u001b[0;34m(\u001b[0m\u001b[0mmapdir\u001b[0m\u001b[0;34m)\u001b[0m\u001b[0;34m\u001b[0m\u001b[0;34m\u001b[0m\u001b[0m\n\u001b[1;32m     59\u001b[0m         \u001b[0mself\u001b[0m\u001b[0;34m.\u001b[0m\u001b[0mfname\u001b[0m \u001b[0;34m=\u001b[0m \u001b[0mos\u001b[0m\u001b[0;34m.\u001b[0m\u001b[0mpath\u001b[0m\u001b[0;34m.\u001b[0m\u001b[0mjoin\u001b[0m\u001b[0;34m(\u001b[0m\u001b[0mmapdir\u001b[0m\u001b[0;34m,\u001b[0m \u001b[0;34m'SFD_dust_4096_{0}.fits'\u001b[0m\u001b[0;34m)\u001b[0m\u001b[0;34m\u001b[0m\u001b[0;34m\u001b[0m\u001b[0m\n",
      "\u001b[0;32m~/soft/mypython3/lib/python3.6/posixpath.py\u001b[0m in \u001b[0;36mexpanduser\u001b[0;34m(path)\u001b[0m\n\u001b[1;32m    233\u001b[0m     \"\"\"Expand ~ and ~user constructions.  If user or $HOME is unknown,\n\u001b[1;32m    234\u001b[0m     do nothing.\"\"\"\n\u001b[0;32m--> 235\u001b[0;31m     \u001b[0mpath\u001b[0m \u001b[0;34m=\u001b[0m \u001b[0mos\u001b[0m\u001b[0;34m.\u001b[0m\u001b[0mfspath\u001b[0m\u001b[0;34m(\u001b[0m\u001b[0mpath\u001b[0m\u001b[0;34m)\u001b[0m\u001b[0;34m\u001b[0m\u001b[0;34m\u001b[0m\u001b[0m\n\u001b[0m\u001b[1;32m    236\u001b[0m     \u001b[0;32mif\u001b[0m \u001b[0misinstance\u001b[0m\u001b[0;34m(\u001b[0m\u001b[0mpath\u001b[0m\u001b[0;34m,\u001b[0m \u001b[0mbytes\u001b[0m\u001b[0;34m)\u001b[0m\u001b[0;34m:\u001b[0m\u001b[0;34m\u001b[0m\u001b[0;34m\u001b[0m\u001b[0m\n\u001b[1;32m    237\u001b[0m         \u001b[0mtilde\u001b[0m \u001b[0;34m=\u001b[0m \u001b[0;34mb'~'\u001b[0m\u001b[0;34m\u001b[0m\u001b[0;34m\u001b[0m\u001b[0m\n",
      "\u001b[0;31mTypeError\u001b[0m: expected str, bytes or os.PathLike object, not NoneType"
     ]
    }
   ],
   "source": [
    "sncosmo.get_ebv_from_map((55., -27.))"
   ]
  },
  {
   "cell_type": "code",
   "execution_count": null,
   "metadata": {},
   "outputs": [],
   "source": []
  }
 ],
 "metadata": {
  "kernelspec": {
   "display_name": "Python 3",
   "language": "python",
   "name": "python3"
  },
  "language_info": {
   "codemirror_mode": {
    "name": "ipython",
    "version": 3
   },
   "file_extension": ".py",
   "mimetype": "text/x-python",
   "name": "python",
   "nbconvert_exporter": "python",
   "pygments_lexer": "ipython3",
   "version": "3.6.7"
  }
 },
 "nbformat": 4,
 "nbformat_minor": 2
}
