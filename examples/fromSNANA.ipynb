{
 "cells": [
  {
   "cell_type": "code",
   "execution_count": 1,
   "metadata": {},
   "outputs": [],
   "source": [
    "import glob\n",
    "import numpy as np\n",
    "import pandas as pd\n",
    "import os"
   ]
  },
  {
   "cell_type": "code",
   "execution_count": 2,
   "metadata": {},
   "outputs": [],
   "source": [
    "from sndata import SNANASims\n",
    "import lcfeats\n",
    "import sndata"
   ]
  },
  {
   "cell_type": "code",
   "execution_count": 3,
   "metadata": {},
   "outputs": [],
   "source": [
    "from lcfeats import process_fname"
   ]
  },
  {
   "cell_type": "code",
   "execution_count": 4,
   "metadata": {},
   "outputs": [],
   "source": [
    "location = '/Users/rbiswas/data/LSST/OpSimData/rcc/nexus/WFD/LSST_WFD_nexus_2097_MODEL93'"
   ]
  },
  {
   "cell_type": "code",
   "execution_count": 5,
   "metadata": {},
   "outputs": [
    {
     "name": "stdout",
     "output_type": "stream",
     "text": [
      "/Users/rbiswas/tmp/throughputs\r\n"
     ]
    }
   ],
   "source": [
    "!echo $THROUGHPUTS_DIR"
   ]
  },
  {
   "cell_type": "code",
   "execution_count": 6,
   "metadata": {},
   "outputs": [
    {
     "name": "stdout",
     "output_type": "stream",
     "text": [
      "0.0.11\n"
     ]
    }
   ],
   "source": [
    "print(sndata.__version__)"
   ]
  },
  {
   "cell_type": "code",
   "execution_count": 7,
   "metadata": {},
   "outputs": [
    {
     "name": "stdout",
     "output_type": "stream",
     "text": [
      "0.0.16\n"
     ]
    }
   ],
   "source": [
    "print(lcfeats.__version__)"
   ]
  },
  {
   "cell_type": "code",
   "execution_count": 8,
   "metadata": {},
   "outputs": [],
   "source": [
    "files = glob.glob(location + \"/*HEAD.FITS.gz\")"
   ]
  },
  {
   "cell_type": "code",
   "execution_count": 9,
   "metadata": {
    "scrolled": true
   },
   "outputs": [
    {
     "data": {
      "text/plain": [
       "['/Users/rbiswas/data/LSST/OpSimData/rcc/nexus/WFD/LSST_WFD_nexus_2097_MODEL93/LSST_WFD_NONIa-0001_HEAD.FITS.gz',\n",
       " '/Users/rbiswas/data/LSST/OpSimData/rcc/nexus/WFD/LSST_WFD_nexus_2097_MODEL93/LSST_WFD_NONIa-0002_HEAD.FITS.gz',\n",
       " '/Users/rbiswas/data/LSST/OpSimData/rcc/nexus/WFD/LSST_WFD_nexus_2097_MODEL93/LSST_WFD_NONIa-0003_HEAD.FITS.gz',\n",
       " '/Users/rbiswas/data/LSST/OpSimData/rcc/nexus/WFD/LSST_WFD_nexus_2097_MODEL93/LSST_WFD_NONIa-0004_HEAD.FITS.gz',\n",
       " '/Users/rbiswas/data/LSST/OpSimData/rcc/nexus/WFD/LSST_WFD_nexus_2097_MODEL93/LSST_WFD_NONIa-0005_HEAD.FITS.gz',\n",
       " '/Users/rbiswas/data/LSST/OpSimData/rcc/nexus/WFD/LSST_WFD_nexus_2097_MODEL93/LSST_WFD_NONIa-0006_HEAD.FITS.gz',\n",
       " '/Users/rbiswas/data/LSST/OpSimData/rcc/nexus/WFD/LSST_WFD_nexus_2097_MODEL93/LSST_WFD_NONIa-0007_HEAD.FITS.gz',\n",
       " '/Users/rbiswas/data/LSST/OpSimData/rcc/nexus/WFD/LSST_WFD_nexus_2097_MODEL93/LSST_WFD_NONIa-0008_HEAD.FITS.gz',\n",
       " '/Users/rbiswas/data/LSST/OpSimData/rcc/nexus/WFD/LSST_WFD_nexus_2097_MODEL93/LSST_WFD_NONIa-0009_HEAD.FITS.gz',\n",
       " '/Users/rbiswas/data/LSST/OpSimData/rcc/nexus/WFD/LSST_WFD_nexus_2097_MODEL93/LSST_WFD_NONIa-0010_HEAD.FITS.gz',\n",
       " '/Users/rbiswas/data/LSST/OpSimData/rcc/nexus/WFD/LSST_WFD_nexus_2097_MODEL93/LSST_WFD_NONIa-0011_HEAD.FITS.gz',\n",
       " '/Users/rbiswas/data/LSST/OpSimData/rcc/nexus/WFD/LSST_WFD_nexus_2097_MODEL93/LSST_WFD_NONIa-0012_HEAD.FITS.gz',\n",
       " '/Users/rbiswas/data/LSST/OpSimData/rcc/nexus/WFD/LSST_WFD_nexus_2097_MODEL93/LSST_WFD_NONIa-0013_HEAD.FITS.gz',\n",
       " '/Users/rbiswas/data/LSST/OpSimData/rcc/nexus/WFD/LSST_WFD_nexus_2097_MODEL93/LSST_WFD_NONIa-0014_HEAD.FITS.gz',\n",
       " '/Users/rbiswas/data/LSST/OpSimData/rcc/nexus/WFD/LSST_WFD_nexus_2097_MODEL93/LSST_WFD_NONIa-0015_HEAD.FITS.gz',\n",
       " '/Users/rbiswas/data/LSST/OpSimData/rcc/nexus/WFD/LSST_WFD_nexus_2097_MODEL93/LSST_WFD_NONIa-0016_HEAD.FITS.gz',\n",
       " '/Users/rbiswas/data/LSST/OpSimData/rcc/nexus/WFD/LSST_WFD_nexus_2097_MODEL93/LSST_WFD_NONIa-0017_HEAD.FITS.gz',\n",
       " '/Users/rbiswas/data/LSST/OpSimData/rcc/nexus/WFD/LSST_WFD_nexus_2097_MODEL93/LSST_WFD_NONIa-0018_HEAD.FITS.gz',\n",
       " '/Users/rbiswas/data/LSST/OpSimData/rcc/nexus/WFD/LSST_WFD_nexus_2097_MODEL93/LSST_WFD_NONIa-0019_HEAD.FITS.gz',\n",
       " '/Users/rbiswas/data/LSST/OpSimData/rcc/nexus/WFD/LSST_WFD_nexus_2097_MODEL93/LSST_WFD_NONIa-0020_HEAD.FITS.gz',\n",
       " '/Users/rbiswas/data/LSST/OpSimData/rcc/nexus/WFD/LSST_WFD_nexus_2097_MODEL93/LSST_WFD_NONIa-0021_HEAD.FITS.gz',\n",
       " '/Users/rbiswas/data/LSST/OpSimData/rcc/nexus/WFD/LSST_WFD_nexus_2097_MODEL93/LSST_WFD_NONIa-0022_HEAD.FITS.gz',\n",
       " '/Users/rbiswas/data/LSST/OpSimData/rcc/nexus/WFD/LSST_WFD_nexus_2097_MODEL93/LSST_WFD_NONIa-0023_HEAD.FITS.gz',\n",
       " '/Users/rbiswas/data/LSST/OpSimData/rcc/nexus/WFD/LSST_WFD_nexus_2097_MODEL93/LSST_WFD_NONIa-0024_HEAD.FITS.gz',\n",
       " '/Users/rbiswas/data/LSST/OpSimData/rcc/nexus/WFD/LSST_WFD_nexus_2097_MODEL93/LSST_WFD_NONIa-0025_HEAD.FITS.gz',\n",
       " '/Users/rbiswas/data/LSST/OpSimData/rcc/nexus/WFD/LSST_WFD_nexus_2097_MODEL93/LSST_WFD_NONIa-0026_HEAD.FITS.gz',\n",
       " '/Users/rbiswas/data/LSST/OpSimData/rcc/nexus/WFD/LSST_WFD_nexus_2097_MODEL93/LSST_WFD_NONIa-0027_HEAD.FITS.gz',\n",
       " '/Users/rbiswas/data/LSST/OpSimData/rcc/nexus/WFD/LSST_WFD_nexus_2097_MODEL93/LSST_WFD_NONIa-0028_HEAD.FITS.gz',\n",
       " '/Users/rbiswas/data/LSST/OpSimData/rcc/nexus/WFD/LSST_WFD_nexus_2097_MODEL93/LSST_WFD_NONIa-0029_HEAD.FITS.gz',\n",
       " '/Users/rbiswas/data/LSST/OpSimData/rcc/nexus/WFD/LSST_WFD_nexus_2097_MODEL93/LSST_WFD_NONIa-0030_HEAD.FITS.gz',\n",
       " '/Users/rbiswas/data/LSST/OpSimData/rcc/nexus/WFD/LSST_WFD_nexus_2097_MODEL93/LSST_WFD_NONIa-0031_HEAD.FITS.gz',\n",
       " '/Users/rbiswas/data/LSST/OpSimData/rcc/nexus/WFD/LSST_WFD_nexus_2097_MODEL93/LSST_WFD_NONIa-0032_HEAD.FITS.gz',\n",
       " '/Users/rbiswas/data/LSST/OpSimData/rcc/nexus/WFD/LSST_WFD_nexus_2097_MODEL93/LSST_WFD_NONIa-0033_HEAD.FITS.gz',\n",
       " '/Users/rbiswas/data/LSST/OpSimData/rcc/nexus/WFD/LSST_WFD_nexus_2097_MODEL93/LSST_WFD_NONIa-0034_HEAD.FITS.gz',\n",
       " '/Users/rbiswas/data/LSST/OpSimData/rcc/nexus/WFD/LSST_WFD_nexus_2097_MODEL93/LSST_WFD_NONIa-0035_HEAD.FITS.gz',\n",
       " '/Users/rbiswas/data/LSST/OpSimData/rcc/nexus/WFD/LSST_WFD_nexus_2097_MODEL93/LSST_WFD_NONIa-0036_HEAD.FITS.gz',\n",
       " '/Users/rbiswas/data/LSST/OpSimData/rcc/nexus/WFD/LSST_WFD_nexus_2097_MODEL93/LSST_WFD_NONIa-0037_HEAD.FITS.gz',\n",
       " '/Users/rbiswas/data/LSST/OpSimData/rcc/nexus/WFD/LSST_WFD_nexus_2097_MODEL93/LSST_WFD_NONIa-0038_HEAD.FITS.gz',\n",
       " '/Users/rbiswas/data/LSST/OpSimData/rcc/nexus/WFD/LSST_WFD_nexus_2097_MODEL93/LSST_WFD_NONIa-0039_HEAD.FITS.gz',\n",
       " '/Users/rbiswas/data/LSST/OpSimData/rcc/nexus/WFD/LSST_WFD_nexus_2097_MODEL93/LSST_WFD_NONIa-0040_HEAD.FITS.gz']"
      ]
     },
     "execution_count": 9,
     "metadata": {},
     "output_type": "execute_result"
    }
   ],
   "source": [
    "files"
   ]
  },
  {
   "cell_type": "code",
   "execution_count": 10,
   "metadata": {},
   "outputs": [],
   "source": [
    "rootfile = lcfeats.get_rootfile(files[0])"
   ]
  },
  {
   "cell_type": "code",
   "execution_count": 11,
   "metadata": {},
   "outputs": [
    {
     "data": {
      "text/plain": [
       "'LSST_WFD_nexus_2097_MODEL93_compressed'"
      ]
     },
     "execution_count": 11,
     "metadata": {},
     "output_type": "execute_result"
    }
   ],
   "source": [
    "os.path.basename(location) + '_compressed'"
   ]
  },
  {
   "cell_type": "code",
   "execution_count": 12,
   "metadata": {},
   "outputs": [
    {
     "data": {
      "text/plain": [
       "'LSST_WFD_NONIa-0001'"
      ]
     },
     "execution_count": 12,
     "metadata": {},
     "output_type": "execute_result"
    }
   ],
   "source": [
    "rootfile"
   ]
  },
  {
   "cell_type": "code",
   "execution_count": 13,
   "metadata": {},
   "outputs": [],
   "source": [
    "x = SNANASims.fromSNANAfileroot(rootfile, location=location, coerce_inds2int=True)"
   ]
  },
  {
   "cell_type": "code",
   "execution_count": 14,
   "metadata": {},
   "outputs": [
    {
     "data": {
      "text/html": [
       "<div>\n",
       "<style scoped>\n",
       "    .dataframe tbody tr th:only-of-type {\n",
       "        vertical-align: middle;\n",
       "    }\n",
       "\n",
       "    .dataframe tbody tr th {\n",
       "        vertical-align: top;\n",
       "    }\n",
       "\n",
       "    .dataframe thead th {\n",
       "        text-align: right;\n",
       "    }\n",
       "</style>\n",
       "<table border=\"1\" class=\"dataframe\">\n",
       "  <thead>\n",
       "    <tr style=\"text-align: right;\">\n",
       "      <th></th>\n",
       "      <th>SNID</th>\n",
       "      <th>SUBSURVEY</th>\n",
       "      <th>IAUC</th>\n",
       "      <th>FAKE</th>\n",
       "      <th>RA</th>\n",
       "      <th>DECL</th>\n",
       "      <th>PIXSIZE</th>\n",
       "      <th>NXPIX</th>\n",
       "      <th>NYPIX</th>\n",
       "      <th>CCDNUM</th>\n",
       "      <th>...</th>\n",
       "      <th>SIM_TEMPLATEMAG_i</th>\n",
       "      <th>SIM_TEMPLATEMAG_z</th>\n",
       "      <th>SIM_TEMPLATEMAG_Y</th>\n",
       "      <th>SIM_EXPOSURE_u</th>\n",
       "      <th>SIM_EXPOSURE_g</th>\n",
       "      <th>SIM_EXPOSURE_r</th>\n",
       "      <th>SIM_EXPOSURE_i</th>\n",
       "      <th>SIM_EXPOSURE_z</th>\n",
       "      <th>SIM_EXPOSURE_Y</th>\n",
       "      <th>SIM_SUBSAMPLE_INDEX</th>\n",
       "    </tr>\n",
       "  </thead>\n",
       "  <tbody>\n",
       "  </tbody>\n",
       "</table>\n",
       "<p>0 rows × 88 columns</p>\n",
       "</div>"
      ],
      "text/plain": [
       "Empty DataFrame\n",
       "Columns: [SNID, SUBSURVEY, IAUC, FAKE, RA, DECL, PIXSIZE, NXPIX, NYPIX, CCDNUM, SNTYPE, NOBS, PTROBS_MIN, PTROBS_MAX, MWEBV, MWEBV_ERR, REDSHIFT_HELIO, REDSHIFT_HELIO_ERR, REDSHIFT_FINAL, REDSHIFT_FINAL_ERR, VPEC, VPEC_ERR, HOSTGAL_OBJID, HOSTGAL_PHOTOZ, HOSTGAL_PHOTOZ_ERR, HOSTGAL_SPECZ, HOSTGAL_SPECZ_ERR, HOSTGAL_SNSEP, HOSTGAL_LOGMASS, HOSTGAL_LOGMASS_ERR, HOSTGAL_MAG_u, HOSTGAL_MAG_g, HOSTGAL_MAG_r, HOSTGAL_MAG_i, HOSTGAL_MAG_z, HOSTGAL_MAG_Y, HOSTGAL_SB_FLUXCAL_u, HOSTGAL_SB_FLUXCAL_g, HOSTGAL_SB_FLUXCAL_r, HOSTGAL_SB_FLUXCAL_i, HOSTGAL_SB_FLUXCAL_z, HOSTGAL_SB_FLUXCAL_Y, PEAKMJD, SEARCH_TYPE, SIM_MODEL_NAME, SIM_MODEL_INDEX, SIM_TYPE_INDEX, SIM_TYPE_NAME, SIM_TEMPLATE_INDEX, SIM_LIBID, SIM_NGEN_LIBID, SIM_NOBS_UNDEFINED, SIM_SEARCHEFF_MASK, SIM_REDSHIFT_HELIO, SIM_REDSHIFT_CMB, SIM_REDSHIFT_HOST, SIM_VPEC, SIM_DLMU, SIM_LENSDMU, SIM_RA, SIM_DECL, SIM_MWEBV, SIM_PEAKMJD, SIM_MAGSMEAR_COH, SIM_AV, SIM_RV, LCLIB(tau_e), LCLIB(u_0), LCLIB(EVENT_ID), SIM_PEAKMAG_u, SIM_PEAKMAG_g, SIM_PEAKMAG_r, SIM_PEAKMAG_i, SIM_PEAKMAG_z, SIM_PEAKMAG_Y, SIM_TEMPLATEMAG_u, SIM_TEMPLATEMAG_g, SIM_TEMPLATEMAG_r, SIM_TEMPLATEMAG_i, SIM_TEMPLATEMAG_z, SIM_TEMPLATEMAG_Y, SIM_EXPOSURE_u, SIM_EXPOSURE_g, SIM_EXPOSURE_r, SIM_EXPOSURE_i, SIM_EXPOSURE_z, SIM_EXPOSURE_Y, SIM_SUBSAMPLE_INDEX]\n",
       "Index: []\n",
       "\n",
       "[0 rows x 88 columns]"
      ]
     },
     "execution_count": 14,
     "metadata": {},
     "output_type": "execute_result"
    }
   ],
   "source": [
    "x.headData.reset_index().query('SNID%50==0')"
   ]
  },
  {
   "cell_type": "code",
   "execution_count": 15,
   "metadata": {},
   "outputs": [
    {
     "data": {
      "text/plain": [
       "(None, None)"
      ]
     },
     "execution_count": 15,
     "metadata": {},
     "output_type": "execute_result"
    }
   ],
   "source": [
    "process_fname(files[1], location, write=True)"
   ]
  },
  {
   "cell_type": "code",
   "execution_count": 75,
   "metadata": {},
   "outputs": [],
   "source": [
    "def proces_rootfile(fname, location, filter_query=\"SNID%50==0\", outDir='./', write=False):\n",
    "    # print(rootfile)\n",
    "    # return\n",
    "    rootfile = lcfeats.get_rootfile(fname)\n",
    "    snsims = SNANASims.fromSNANAfileroot(rootfile, coerce_inds2int=True, location=location, gzipped=True)\n",
    "    phottable = get_photTable(snsims, filter_query=filter_query)\n",
    "    dirname = os.path.split(location)[-1] + '_compressed'\n",
    "    dirloc = os.path.join(outDir, dirname)\n",
    "    if not os.path.exists(dirloc):\n",
    "        os.mkdir(dirloc)\n",
    "    ht = snsims.headData.reset_index().query('SNID%50==0')\n",
    "    \n",
    "    if write:\n",
    "        key = rootfile.split('-')[-1]\n",
    "        phottable.to_hdf(os.path.join(dirloc, 'summary' + '_phot.hdf'), key=key, complib='zlib', complevel=9)\n",
    "        ht.to_hdf(os.path.join(dirloc, 'summary' + '_head.hdf'), key=key,complib='zlib', complevel=9)\n",
    "    \n",
    "    return ht, phottable"
   ]
  },
  {
   "cell_type": "code",
   "execution_count": 56,
   "metadata": {},
   "outputs": [],
   "source": [
    "def proces_rootfile(fname, location, filter_query=\"SNID%50==0\", outDir='./', write=False):\n",
    "    # print(rootfile)\n",
    "    # return\n",
    "    rootfile = lcfeats.get_rootfile(fname)\n",
    "    snsims = SNANASims.fromSNANAfileroot(rootfile, coerce_inds2int=True, location=location, gzipped=True)\n",
    "    phottable = get_photTable(snsims, filter_query=filter_query)\n",
    "    dirname = os.path.split(location)[-1] + '_compressed'\n",
    "    dirloc = os.path.join(outDir, dirname)\n",
    "    if not os.path.exists(dirloc):\n",
    "        os.mkdir(dirloc)\n",
    "    ht = snsims.headData.reset_index().query('SNID%50==0')\n",
    "    \n",
    "    if write:\n",
    "        phottable.to_csv(os.path.join(dirloc, rootfile + '_phot.csv.gz'), compression='gzip')\n",
    "        ht.to_csv(os.path.join(dirloc, rootfile + '_head.csv.gz'), compression='gzip')\n",
    "    \n",
    "    return ht, phottable"
   ]
  },
  {
   "cell_type": "code",
   "execution_count": 12,
   "metadata": {},
   "outputs": [
    {
     "data": {
      "text/plain": [
       "'/Users/rbiswas/data/LSST/OpSimData/rcc/nexus/WFD/LSST_WFD_nexus_2097_MODEL92'"
      ]
     },
     "execution_count": 12,
     "metadata": {},
     "output_type": "execute_result"
    }
   ],
   "source": [
    "location"
   ]
  },
  {
   "cell_type": "code",
   "execution_count": 13,
   "metadata": {},
   "outputs": [
    {
     "data": {
      "text/plain": [
       "'LSST_WFD_NONIa-0001'"
      ]
     },
     "execution_count": 13,
     "metadata": {},
     "output_type": "execute_result"
    }
   ],
   "source": [
    "rootfile"
   ]
  },
  {
   "cell_type": "code",
   "execution_count": 9,
   "metadata": {},
   "outputs": [],
   "source": [
    "x = SNANASims.fromSNANAfileroot(rootfile, location=location, coerce_inds2int=True, gzipped=True)"
   ]
  },
  {
   "cell_type": "code",
   "execution_count": 11,
   "metadata": {},
   "outputs": [
    {
     "data": {
      "text/plain": [
       "NoneType"
      ]
     },
     "execution_count": 11,
     "metadata": {},
     "output_type": "execute_result"
    }
   ],
   "source": [
    "type(x)"
   ]
  },
  {
   "cell_type": "code",
   "execution_count": 11,
   "metadata": {},
   "outputs": [
    {
     "ename": "IndexError",
     "evalue": "index 0 is out of bounds for axis 0 with size 0",
     "output_type": "error",
     "traceback": [
      "\u001b[0;31m---------------------------------------------------------------------------\u001b[0m",
      "\u001b[0;31mIndexError\u001b[0m                                Traceback (most recent call last)",
      "\u001b[0;32m<ipython-input-11-482284cfee80>\u001b[0m in \u001b[0;36m<module>\u001b[0;34m()\u001b[0m\n\u001b[0;32m----> 1\u001b[0;31m \u001b[0mprocess_fname\u001b[0m\u001b[0;34m(\u001b[0m\u001b[0mrootfile\u001b[0m\u001b[0;34m,\u001b[0m \u001b[0mlocation\u001b[0m\u001b[0;34m)\u001b[0m\u001b[0;34m\u001b[0m\u001b[0m\n\u001b[0m",
      "\u001b[0;32m~/.local/lib/python3.6/site-packages/lcfeats-0.0.14-py3.6.egg/lcfeats/ioutils.py\u001b[0m in \u001b[0;36mprocess_fname\u001b[0;34m(fname, location, filter_query, outDir, write, format, complevel)\u001b[0m\n\u001b[1;32m     30\u001b[0m     \u001b[0;31m# return\u001b[0m\u001b[0;34m\u001b[0m\u001b[0;34m\u001b[0m\u001b[0m\n\u001b[1;32m     31\u001b[0m     \u001b[0mrootfile\u001b[0m \u001b[0;34m=\u001b[0m \u001b[0mget_rootfile\u001b[0m\u001b[0;34m(\u001b[0m\u001b[0mfname\u001b[0m\u001b[0;34m)\u001b[0m\u001b[0;34m\u001b[0m\u001b[0m\n\u001b[0;32m---> 32\u001b[0;31m     \u001b[0msnsims\u001b[0m \u001b[0;34m=\u001b[0m \u001b[0mSNANASims\u001b[0m\u001b[0;34m.\u001b[0m\u001b[0mfromSNANAfileroot\u001b[0m\u001b[0;34m(\u001b[0m\u001b[0mrootfile\u001b[0m\u001b[0;34m,\u001b[0m \u001b[0mcoerce_inds2int\u001b[0m\u001b[0;34m=\u001b[0m\u001b[0;32mTrue\u001b[0m\u001b[0;34m,\u001b[0m \u001b[0mlocation\u001b[0m\u001b[0;34m=\u001b[0m\u001b[0mlocation\u001b[0m\u001b[0;34m,\u001b[0m \u001b[0mgzipped\u001b[0m\u001b[0;34m=\u001b[0m\u001b[0;32mTrue\u001b[0m\u001b[0;34m)\u001b[0m\u001b[0;34m\u001b[0m\u001b[0m\n\u001b[0m\u001b[1;32m     33\u001b[0m     \u001b[0mht\u001b[0m \u001b[0;34m=\u001b[0m \u001b[0msnsims\u001b[0m\u001b[0;34m.\u001b[0m\u001b[0mheadData\u001b[0m\u001b[0;34m.\u001b[0m\u001b[0mreset_index\u001b[0m\u001b[0;34m(\u001b[0m\u001b[0;34m)\u001b[0m\u001b[0;34m.\u001b[0m\u001b[0mquery\u001b[0m\u001b[0;34m(\u001b[0m\u001b[0;34m'SNID%50==0'\u001b[0m\u001b[0;34m)\u001b[0m\u001b[0;34m\u001b[0m\u001b[0m\n\u001b[1;32m     34\u001b[0m \u001b[0;34m\u001b[0m\u001b[0m\n",
      "\u001b[0;32m~/.local/lib/python3.6/site-packages/sndata-0.0.10-py3.6.egg/sndata/snanaio.py\u001b[0m in \u001b[0;36mfromSNANAfileroot\u001b[0;34m(cls, snanafileroot, location, coerce_inds2int, SNANABandNames, registeredBandNames, gzipped)\u001b[0m\n\u001b[1;32m     78\u001b[0m         return cls(headFile=headfile, photFile=photfile,\n\u001b[1;32m     79\u001b[0m                    \u001b[0mcoerce_inds2int\u001b[0m\u001b[0;34m=\u001b[0m\u001b[0mcoerce_inds2int\u001b[0m\u001b[0;34m,\u001b[0m \u001b[0mSNANABandNames\u001b[0m\u001b[0;34m=\u001b[0m\u001b[0mSNANABandNames\u001b[0m\u001b[0;34m,\u001b[0m\u001b[0;34m\u001b[0m\u001b[0m\n\u001b[0;32m---> 80\u001b[0;31m                    registeredBandNames=registeredBandNames)\n\u001b[0m\u001b[1;32m     81\u001b[0m \u001b[0;34m\u001b[0m\u001b[0m\n\u001b[1;32m     82\u001b[0m     \u001b[0;34m@\u001b[0m\u001b[0mstaticmethod\u001b[0m\u001b[0;34m\u001b[0m\u001b[0m\n",
      "\u001b[0;32m~/.local/lib/python3.6/site-packages/sndata-0.0.10-py3.6.egg/sndata/snanaio.py\u001b[0m in \u001b[0;36m__init__\u001b[0;34m(self, headFile, photFile, coerce_inds2int, SNANABandNames, registeredBandNames)\u001b[0m\n\u001b[1;32m     39\u001b[0m         \u001b[0mself\u001b[0m\u001b[0;34m.\u001b[0m\u001b[0mphotFile\u001b[0m \u001b[0;34m=\u001b[0m \u001b[0mphotFile\u001b[0m\u001b[0;34m\u001b[0m\u001b[0m\n\u001b[1;32m     40\u001b[0m         self.headData = self.get_headData(self.headFile,\n\u001b[0;32m---> 41\u001b[0;31m                                           coerce_inds2int=coerce_inds2int)\n\u001b[0m\u001b[1;32m     42\u001b[0m         \u001b[0mself\u001b[0m\u001b[0;34m.\u001b[0m\u001b[0mphot\u001b[0m \u001b[0;34m=\u001b[0m \u001b[0mfitsio\u001b[0m\u001b[0;34m.\u001b[0m\u001b[0mFITS\u001b[0m\u001b[0;34m(\u001b[0m\u001b[0mphotFile\u001b[0m\u001b[0;34m)\u001b[0m\u001b[0;34m\u001b[0m\u001b[0m\n\u001b[1;32m     43\u001b[0m         \u001b[0mself\u001b[0m\u001b[0;34m.\u001b[0m\u001b[0mbandNames\u001b[0m \u001b[0;34m=\u001b[0m \u001b[0mSNANABandNames\u001b[0m\u001b[0;34m\u001b[0m\u001b[0m\n",
      "\u001b[0;32m~/.local/lib/python3.6/site-packages/sndata-0.0.10-py3.6.egg/sndata/snanaio.py\u001b[0m in \u001b[0;36mget_headData\u001b[0;34m(headFile, coerce_inds2int)\u001b[0m\n\u001b[1;32m    132\u001b[0m         \"\"\"\n\u001b[1;32m    133\u001b[0m         \u001b[0m_head\u001b[0m \u001b[0;34m=\u001b[0m \u001b[0mTable\u001b[0m\u001b[0;34m.\u001b[0m\u001b[0mread\u001b[0m\u001b[0;34m(\u001b[0m\u001b[0mheadFile\u001b[0m\u001b[0;34m)\u001b[0m\u001b[0;34m\u001b[0m\u001b[0m\n\u001b[0;32m--> 134\u001b[0;31m         \u001b[0;32mif\u001b[0m \u001b[0misinstance\u001b[0m\u001b[0;34m(\u001b[0m\u001b[0m_head\u001b[0m\u001b[0;34m[\u001b[0m\u001b[0;34m'SNID'\u001b[0m\u001b[0;34m]\u001b[0m\u001b[0;34m[\u001b[0m\u001b[0;36m0\u001b[0m\u001b[0;34m]\u001b[0m\u001b[0;34m,\u001b[0m \u001b[0mstring_types\u001b[0m\u001b[0;34m)\u001b[0m\u001b[0;34m:\u001b[0m\u001b[0;34m\u001b[0m\u001b[0m\n\u001b[0m\u001b[1;32m    135\u001b[0m             \u001b[0mdata\u001b[0m \u001b[0;34m=\u001b[0m \u001b[0m_head\u001b[0m\u001b[0;34m[\u001b[0m\u001b[0;34m'SNID'\u001b[0m\u001b[0;34m]\u001b[0m\u001b[0;34m.\u001b[0m\u001b[0mdata\u001b[0m\u001b[0;34m\u001b[0m\u001b[0m\n\u001b[1;32m    136\u001b[0m             \u001b[0mname\u001b[0m \u001b[0;34m=\u001b[0m \u001b[0m_head\u001b[0m\u001b[0;34m[\u001b[0m\u001b[0;34m'SNID'\u001b[0m\u001b[0;34m]\u001b[0m\u001b[0;34m.\u001b[0m\u001b[0mname\u001b[0m\u001b[0;34m\u001b[0m\u001b[0m\n",
      "\u001b[0;32mastropy/table/_column_mixins.pyx\u001b[0m in \u001b[0;36mastropy.table._column_mixins._ColumnGetitemShim.__getitem__\u001b[0;34m()\u001b[0m\n",
      "\u001b[0;32mastropy/table/_column_mixins.pyx\u001b[0m in \u001b[0;36mastropy.table._column_mixins.base_getitem\u001b[0;34m()\u001b[0m\n",
      "\u001b[0;32mastropy/table/_column_mixins.pyx\u001b[0m in \u001b[0;36mastropy.table._column_mixins.column_getitem\u001b[0;34m()\u001b[0m\n",
      "\u001b[0;31mIndexError\u001b[0m: index 0 is out of bounds for axis 0 with size 0"
     ]
    }
   ],
   "source": [
    "process_fname(rootfile, location)"
   ]
  },
  {
   "cell_type": "code",
   "execution_count": 54,
   "metadata": {},
   "outputs": [],
   "source": [
    "from multiprocessing import Pool, cpu_count"
   ]
  },
  {
   "cell_type": "code",
   "execution_count": 60,
   "metadata": {},
   "outputs": [],
   "source": [
    "import time"
   ]
  },
  {
   "cell_type": "code",
   "execution_count": 76,
   "metadata": {},
   "outputs": [
    {
     "name": "stderr",
     "output_type": "stream",
     "text": [
      "/Users/rbiswas/soft/mypython3/lib/python3.6/site-packages/tables/path.py:112: NaturalNameWarning: object name is not a valid Python identifier: '0001'; it does not match the pattern ``^[a-zA-Z_][a-zA-Z0-9_]*$``; you will not be able to use natural naming to access this object; using ``getattr()`` will still work, though\n",
      "  NaturalNameWarning)\n",
      "/Users/rbiswas/soft/mypython3/lib/python3.6/site-packages/pandas/core/generic.py:1996: PerformanceWarning: \n",
      "your performance may suffer as PyTables will pickle object types that it cannot\n",
      "map directly to c-types [inferred_type->mixed,key->block4_values] [items->['band', 'FIELD', 'zpsys']]\n",
      "\n",
      "  return pytables.to_hdf(path_or_buf, key, self, **kwargs)\n",
      "/Users/rbiswas/soft/mypython3/lib/python3.6/site-packages/pandas/core/generic.py:1996: PerformanceWarning: \n",
      "your performance may suffer as PyTables will pickle object types that it cannot\n",
      "map directly to c-types [inferred_type->bytes,key->block5_values] [items->['SUBSURVEY', 'IAUC', 'SIM_MODEL_NAME', 'SIM_TYPE_NAME']]\n",
      "\n",
      "  return pytables.to_hdf(path_or_buf, key, self, **kwargs)\n",
      "/Users/rbiswas/soft/mypython3/lib/python3.6/site-packages/tables/path.py:112: NaturalNameWarning: object name is not a valid Python identifier: '0002'; it does not match the pattern ``^[a-zA-Z_][a-zA-Z0-9_]*$``; you will not be able to use natural naming to access this object; using ``getattr()`` will still work, though\n",
      "  NaturalNameWarning)\n",
      "/Users/rbiswas/soft/mypython3/lib/python3.6/site-packages/pandas/core/generic.py:1996: PerformanceWarning: \n",
      "your performance may suffer as PyTables will pickle object types that it cannot\n",
      "map directly to c-types [inferred_type->mixed,key->block4_values] [items->['band', 'FIELD', 'zpsys']]\n",
      "\n",
      "  return pytables.to_hdf(path_or_buf, key, self, **kwargs)\n",
      "/Users/rbiswas/soft/mypython3/lib/python3.6/site-packages/pandas/core/generic.py:1996: PerformanceWarning: \n",
      "your performance may suffer as PyTables will pickle object types that it cannot\n",
      "map directly to c-types [inferred_type->bytes,key->block5_values] [items->['SUBSURVEY', 'IAUC', 'SIM_MODEL_NAME', 'SIM_TYPE_NAME']]\n",
      "\n",
      "  return pytables.to_hdf(path_or_buf, key, self, **kwargs)\n",
      "/Users/rbiswas/soft/mypython3/lib/python3.6/site-packages/tables/path.py:112: NaturalNameWarning: object name is not a valid Python identifier: '0003'; it does not match the pattern ``^[a-zA-Z_][a-zA-Z0-9_]*$``; you will not be able to use natural naming to access this object; using ``getattr()`` will still work, though\n",
      "  NaturalNameWarning)\n",
      "/Users/rbiswas/soft/mypython3/lib/python3.6/site-packages/pandas/core/generic.py:1996: PerformanceWarning: \n",
      "your performance may suffer as PyTables will pickle object types that it cannot\n",
      "map directly to c-types [inferred_type->mixed,key->block4_values] [items->['band', 'FIELD', 'zpsys']]\n",
      "\n",
      "  return pytables.to_hdf(path_or_buf, key, self, **kwargs)\n",
      "/Users/rbiswas/soft/mypython3/lib/python3.6/site-packages/pandas/core/generic.py:1996: PerformanceWarning: \n",
      "your performance may suffer as PyTables will pickle object types that it cannot\n",
      "map directly to c-types [inferred_type->bytes,key->block5_values] [items->['SUBSURVEY', 'IAUC', 'SIM_MODEL_NAME', 'SIM_TYPE_NAME']]\n",
      "\n",
      "  return pytables.to_hdf(path_or_buf, key, self, **kwargs)\n",
      "/Users/rbiswas/soft/mypython3/lib/python3.6/site-packages/tables/path.py:112: NaturalNameWarning: object name is not a valid Python identifier: '0004'; it does not match the pattern ``^[a-zA-Z_][a-zA-Z0-9_]*$``; you will not be able to use natural naming to access this object; using ``getattr()`` will still work, though\n",
      "  NaturalNameWarning)\n",
      "/Users/rbiswas/soft/mypython3/lib/python3.6/site-packages/pandas/core/generic.py:1996: PerformanceWarning: \n",
      "your performance may suffer as PyTables will pickle object types that it cannot\n",
      "map directly to c-types [inferred_type->mixed,key->block4_values] [items->['band', 'FIELD', 'zpsys']]\n",
      "\n",
      "  return pytables.to_hdf(path_or_buf, key, self, **kwargs)\n",
      "/Users/rbiswas/soft/mypython3/lib/python3.6/site-packages/pandas/core/generic.py:1996: PerformanceWarning: \n",
      "your performance may suffer as PyTables will pickle object types that it cannot\n",
      "map directly to c-types [inferred_type->bytes,key->block5_values] [items->['SUBSURVEY', 'IAUC', 'SIM_MODEL_NAME', 'SIM_TYPE_NAME']]\n",
      "\n",
      "  return pytables.to_hdf(path_or_buf, key, self, **kwargs)\n",
      "/Users/rbiswas/soft/mypython3/lib/python3.6/site-packages/tables/path.py:112: NaturalNameWarning: object name is not a valid Python identifier: '0005'; it does not match the pattern ``^[a-zA-Z_][a-zA-Z0-9_]*$``; you will not be able to use natural naming to access this object; using ``getattr()`` will still work, though\n",
      "  NaturalNameWarning)\n",
      "/Users/rbiswas/soft/mypython3/lib/python3.6/site-packages/tables/path.py:112: NaturalNameWarning: object name is not a valid Python identifier: '0006'; it does not match the pattern ``^[a-zA-Z_][a-zA-Z0-9_]*$``; you will not be able to use natural naming to access this object; using ``getattr()`` will still work, though\n",
      "  NaturalNameWarning)\n",
      "/Users/rbiswas/soft/mypython3/lib/python3.6/site-packages/tables/path.py:112: NaturalNameWarning: object name is not a valid Python identifier: '0007'; it does not match the pattern ``^[a-zA-Z_][a-zA-Z0-9_]*$``; you will not be able to use natural naming to access this object; using ``getattr()`` will still work, though\n",
      "  NaturalNameWarning)\n",
      "/Users/rbiswas/soft/mypython3/lib/python3.6/site-packages/tables/path.py:112: NaturalNameWarning: object name is not a valid Python identifier: '0008'; it does not match the pattern ``^[a-zA-Z_][a-zA-Z0-9_]*$``; you will not be able to use natural naming to access this object; using ``getattr()`` will still work, though\n",
      "  NaturalNameWarning)\n",
      "/Users/rbiswas/soft/mypython3/lib/python3.6/site-packages/tables/path.py:112: NaturalNameWarning: object name is not a valid Python identifier: '0009'; it does not match the pattern ``^[a-zA-Z_][a-zA-Z0-9_]*$``; you will not be able to use natural naming to access this object; using ``getattr()`` will still work, though\n",
      "  NaturalNameWarning)\n",
      "/Users/rbiswas/soft/mypython3/lib/python3.6/site-packages/tables/path.py:112: NaturalNameWarning: object name is not a valid Python identifier: '0010'; it does not match the pattern ``^[a-zA-Z_][a-zA-Z0-9_]*$``; you will not be able to use natural naming to access this object; using ``getattr()`` will still work, though\n",
      "  NaturalNameWarning)\n",
      "/Users/rbiswas/soft/mypython3/lib/python3.6/site-packages/tables/path.py:112: NaturalNameWarning: object name is not a valid Python identifier: '0011'; it does not match the pattern ``^[a-zA-Z_][a-zA-Z0-9_]*$``; you will not be able to use natural naming to access this object; using ``getattr()`` will still work, though\n",
      "  NaturalNameWarning)\n",
      "/Users/rbiswas/soft/mypython3/lib/python3.6/site-packages/tables/path.py:112: NaturalNameWarning: object name is not a valid Python identifier: '0012'; it does not match the pattern ``^[a-zA-Z_][a-zA-Z0-9_]*$``; you will not be able to use natural naming to access this object; using ``getattr()`` will still work, though\n",
      "  NaturalNameWarning)\n",
      "/Users/rbiswas/soft/mypython3/lib/python3.6/site-packages/tables/path.py:112: NaturalNameWarning: object name is not a valid Python identifier: '0013'; it does not match the pattern ``^[a-zA-Z_][a-zA-Z0-9_]*$``; you will not be able to use natural naming to access this object; using ``getattr()`` will still work, though\n",
      "  NaturalNameWarning)\n",
      "/Users/rbiswas/soft/mypython3/lib/python3.6/site-packages/tables/path.py:112: NaturalNameWarning: object name is not a valid Python identifier: '0014'; it does not match the pattern ``^[a-zA-Z_][a-zA-Z0-9_]*$``; you will not be able to use natural naming to access this object; using ``getattr()`` will still work, though\n",
      "  NaturalNameWarning)\n",
      "/Users/rbiswas/soft/mypython3/lib/python3.6/site-packages/tables/path.py:112: NaturalNameWarning: object name is not a valid Python identifier: '0015'; it does not match the pattern ``^[a-zA-Z_][a-zA-Z0-9_]*$``; you will not be able to use natural naming to access this object; using ``getattr()`` will still work, though\n",
      "  NaturalNameWarning)\n",
      "/Users/rbiswas/soft/mypython3/lib/python3.6/site-packages/tables/path.py:112: NaturalNameWarning: object name is not a valid Python identifier: '0016'; it does not match the pattern ``^[a-zA-Z_][a-zA-Z0-9_]*$``; you will not be able to use natural naming to access this object; using ``getattr()`` will still work, though\n",
      "  NaturalNameWarning)\n"
     ]
    },
    {
     "name": "stderr",
     "output_type": "stream",
     "text": [
      "/Users/rbiswas/soft/mypython3/lib/python3.6/site-packages/tables/path.py:112: NaturalNameWarning: object name is not a valid Python identifier: '0017'; it does not match the pattern ``^[a-zA-Z_][a-zA-Z0-9_]*$``; you will not be able to use natural naming to access this object; using ``getattr()`` will still work, though\n",
      "  NaturalNameWarning)\n",
      "/Users/rbiswas/soft/mypython3/lib/python3.6/site-packages/tables/path.py:112: NaturalNameWarning: object name is not a valid Python identifier: '0018'; it does not match the pattern ``^[a-zA-Z_][a-zA-Z0-9_]*$``; you will not be able to use natural naming to access this object; using ``getattr()`` will still work, though\n",
      "  NaturalNameWarning)\n",
      "/Users/rbiswas/soft/mypython3/lib/python3.6/site-packages/tables/path.py:112: NaturalNameWarning: object name is not a valid Python identifier: '0019'; it does not match the pattern ``^[a-zA-Z_][a-zA-Z0-9_]*$``; you will not be able to use natural naming to access this object; using ``getattr()`` will still work, though\n",
      "  NaturalNameWarning)\n",
      "/Users/rbiswas/soft/mypython3/lib/python3.6/site-packages/tables/path.py:112: NaturalNameWarning: object name is not a valid Python identifier: '0020'; it does not match the pattern ``^[a-zA-Z_][a-zA-Z0-9_]*$``; you will not be able to use natural naming to access this object; using ``getattr()`` will still work, though\n",
      "  NaturalNameWarning)\n",
      "/Users/rbiswas/soft/mypython3/lib/python3.6/site-packages/tables/path.py:112: NaturalNameWarning: object name is not a valid Python identifier: '0021'; it does not match the pattern ``^[a-zA-Z_][a-zA-Z0-9_]*$``; you will not be able to use natural naming to access this object; using ``getattr()`` will still work, though\n",
      "  NaturalNameWarning)\n",
      "/Users/rbiswas/soft/mypython3/lib/python3.6/site-packages/tables/path.py:112: NaturalNameWarning: object name is not a valid Python identifier: '0022'; it does not match the pattern ``^[a-zA-Z_][a-zA-Z0-9_]*$``; you will not be able to use natural naming to access this object; using ``getattr()`` will still work, though\n",
      "  NaturalNameWarning)\n",
      "/Users/rbiswas/soft/mypython3/lib/python3.6/site-packages/tables/path.py:112: NaturalNameWarning: object name is not a valid Python identifier: '0023'; it does not match the pattern ``^[a-zA-Z_][a-zA-Z0-9_]*$``; you will not be able to use natural naming to access this object; using ``getattr()`` will still work, though\n",
      "  NaturalNameWarning)\n",
      "/Users/rbiswas/soft/mypython3/lib/python3.6/site-packages/tables/path.py:112: NaturalNameWarning: object name is not a valid Python identifier: '0024'; it does not match the pattern ``^[a-zA-Z_][a-zA-Z0-9_]*$``; you will not be able to use natural naming to access this object; using ``getattr()`` will still work, though\n",
      "  NaturalNameWarning)\n",
      "/Users/rbiswas/soft/mypython3/lib/python3.6/site-packages/tables/path.py:112: NaturalNameWarning: object name is not a valid Python identifier: '0025'; it does not match the pattern ``^[a-zA-Z_][a-zA-Z0-9_]*$``; you will not be able to use natural naming to access this object; using ``getattr()`` will still work, though\n",
      "  NaturalNameWarning)\n",
      "/Users/rbiswas/soft/mypython3/lib/python3.6/site-packages/tables/path.py:112: NaturalNameWarning: object name is not a valid Python identifier: '0026'; it does not match the pattern ``^[a-zA-Z_][a-zA-Z0-9_]*$``; you will not be able to use natural naming to access this object; using ``getattr()`` will still work, though\n",
      "  NaturalNameWarning)\n",
      "/Users/rbiswas/soft/mypython3/lib/python3.6/site-packages/tables/path.py:112: NaturalNameWarning: object name is not a valid Python identifier: '0027'; it does not match the pattern ``^[a-zA-Z_][a-zA-Z0-9_]*$``; you will not be able to use natural naming to access this object; using ``getattr()`` will still work, though\n",
      "  NaturalNameWarning)\n",
      "/Users/rbiswas/soft/mypython3/lib/python3.6/site-packages/tables/path.py:112: NaturalNameWarning: object name is not a valid Python identifier: '0028'; it does not match the pattern ``^[a-zA-Z_][a-zA-Z0-9_]*$``; you will not be able to use natural naming to access this object; using ``getattr()`` will still work, though\n",
      "  NaturalNameWarning)\n",
      "/Users/rbiswas/soft/mypython3/lib/python3.6/site-packages/tables/path.py:112: NaturalNameWarning: object name is not a valid Python identifier: '0029'; it does not match the pattern ``^[a-zA-Z_][a-zA-Z0-9_]*$``; you will not be able to use natural naming to access this object; using ``getattr()`` will still work, though\n",
      "  NaturalNameWarning)\n",
      "/Users/rbiswas/soft/mypython3/lib/python3.6/site-packages/tables/path.py:112: NaturalNameWarning: object name is not a valid Python identifier: '0030'; it does not match the pattern ``^[a-zA-Z_][a-zA-Z0-9_]*$``; you will not be able to use natural naming to access this object; using ``getattr()`` will still work, though\n",
      "  NaturalNameWarning)\n",
      "/Users/rbiswas/soft/mypython3/lib/python3.6/site-packages/tables/path.py:112: NaturalNameWarning: object name is not a valid Python identifier: '0031'; it does not match the pattern ``^[a-zA-Z_][a-zA-Z0-9_]*$``; you will not be able to use natural naming to access this object; using ``getattr()`` will still work, though\n",
      "  NaturalNameWarning)\n",
      "/Users/rbiswas/soft/mypython3/lib/python3.6/site-packages/tables/path.py:112: NaturalNameWarning: object name is not a valid Python identifier: '0032'; it does not match the pattern ``^[a-zA-Z_][a-zA-Z0-9_]*$``; you will not be able to use natural naming to access this object; using ``getattr()`` will still work, though\n",
      "  NaturalNameWarning)\n",
      "/Users/rbiswas/soft/mypython3/lib/python3.6/site-packages/tables/path.py:112: NaturalNameWarning: object name is not a valid Python identifier: '0033'; it does not match the pattern ``^[a-zA-Z_][a-zA-Z0-9_]*$``; you will not be able to use natural naming to access this object; using ``getattr()`` will still work, though\n",
      "  NaturalNameWarning)\n",
      "/Users/rbiswas/soft/mypython3/lib/python3.6/site-packages/tables/path.py:112: NaturalNameWarning: object name is not a valid Python identifier: '0034'; it does not match the pattern ``^[a-zA-Z_][a-zA-Z0-9_]*$``; you will not be able to use natural naming to access this object; using ``getattr()`` will still work, though\n",
      "  NaturalNameWarning)\n",
      "/Users/rbiswas/soft/mypython3/lib/python3.6/site-packages/tables/path.py:112: NaturalNameWarning: object name is not a valid Python identifier: '0035'; it does not match the pattern ``^[a-zA-Z_][a-zA-Z0-9_]*$``; you will not be able to use natural naming to access this object; using ``getattr()`` will still work, though\n",
      "  NaturalNameWarning)\n",
      "/Users/rbiswas/soft/mypython3/lib/python3.6/site-packages/tables/path.py:112: NaturalNameWarning: object name is not a valid Python identifier: '0036'; it does not match the pattern ``^[a-zA-Z_][a-zA-Z0-9_]*$``; you will not be able to use natural naming to access this object; using ``getattr()`` will still work, though\n",
      "  NaturalNameWarning)\n",
      "/Users/rbiswas/soft/mypython3/lib/python3.6/site-packages/tables/path.py:112: NaturalNameWarning: object name is not a valid Python identifier: '0037'; it does not match the pattern ``^[a-zA-Z_][a-zA-Z0-9_]*$``; you will not be able to use natural naming to access this object; using ``getattr()`` will still work, though\n",
      "  NaturalNameWarning)\n",
      "/Users/rbiswas/soft/mypython3/lib/python3.6/site-packages/tables/path.py:112: NaturalNameWarning: object name is not a valid Python identifier: '0038'; it does not match the pattern ``^[a-zA-Z_][a-zA-Z0-9_]*$``; you will not be able to use natural naming to access this object; using ``getattr()`` will still work, though\n",
      "  NaturalNameWarning)\n",
      "/Users/rbiswas/soft/mypython3/lib/python3.6/site-packages/tables/path.py:112: NaturalNameWarning: object name is not a valid Python identifier: '0039'; it does not match the pattern ``^[a-zA-Z_][a-zA-Z0-9_]*$``; you will not be able to use natural naming to access this object; using ``getattr()`` will still work, though\n",
      "  NaturalNameWarning)\n",
      "/Users/rbiswas/soft/mypython3/lib/python3.6/site-packages/tables/path.py:112: NaturalNameWarning: object name is not a valid Python identifier: '0040'; it does not match the pattern ``^[a-zA-Z_][a-zA-Z0-9_]*$``; you will not be able to use natural naming to access this object; using ``getattr()`` will still work, though\n",
      "  NaturalNameWarning)\n"
     ]
    }
   ],
   "source": [
    "ts = time.time()\n",
    "num_process = cpu_count()\n",
    "location = '/Users/rbiswas/data/LSST/OpSimData/rcc/nexus/WFD/LSST_WFD_nexus_2097_MODEL02'\n",
    "files = glob.glob(location + \"/*HEAD.FITS.gz\")\n",
    "with Pool(num_process) as p:\n",
    "    results = [p.apply(proces_rootfile, args=(rootfile, location, \"SNID%50==0\", './', True)) for rootfile in files]  \n",
    "te = time.time()"
   ]
  },
  {
   "cell_type": "code",
   "execution_count": 79,
   "metadata": {},
   "outputs": [
    {
     "name": "stdout",
     "output_type": "stream",
     "text": [
      "4.426751363277435\n"
     ]
    }
   ],
   "source": [
    "print((te-ts)/60)"
   ]
  },
  {
   "cell_type": "code",
   "execution_count": 80,
   "metadata": {},
   "outputs": [
    {
     "data": {
      "text/plain": [
       "0.051543209876543206"
      ]
     },
     "execution_count": 80,
     "metadata": {},
     "output_type": "execute_result"
    }
   ],
   "source": [
    "167. /81 / 40 "
   ]
  },
  {
   "cell_type": "code",
   "execution_count": 61,
   "metadata": {},
   "outputs": [],
   "source": [
    "ts = time.time()\n",
    "num_process = cpu_count()\n",
    "location = '/Users/rbiswas/data/LSST/OpSimData/rcc/nexus/WFD/LSST_WFD_nexus_2097_MODEL02'\n",
    "files = glob.glob(location + \"/*HEAD.FITS.gz\")\n",
    "with Pool(num_process) as p:\n",
    "    results = [p.apply(proces_rootfile, args=(rootfile, location, \"SNID%50==0\", './', True)) for rootfile in files]  \n",
    "te = time.time()"
   ]
  },
  {
   "cell_type": "code",
   "execution_count": 58,
   "metadata": {},
   "outputs": [],
   "source": [
    "!ls LSST_WFD_nexus_2097_MODEL02_compressed/"
   ]
  },
  {
   "cell_type": "code",
   "execution_count": 65,
   "metadata": {},
   "outputs": [
    {
     "data": {
      "text/plain": [
       "24.076085750261942"
      ]
     },
     "execution_count": 65,
     "metadata": {},
     "output_type": "execute_result"
    }
   ],
   "source": [
    "(te - ts)/60."
   ]
  },
  {
   "cell_type": "code",
   "execution_count": null,
   "metadata": {},
   "outputs": [],
   "source": [
    "from mu"
   ]
  },
  {
   "cell_type": "code",
   "execution_count": 38,
   "metadata": {},
   "outputs": [],
   "source": [
    "x = proces_rootfile(rootfile, location, write=True)"
   ]
  },
  {
   "cell_type": "code",
   "execution_count": 52,
   "metadata": {},
   "outputs": [],
   "source": [
    "!rm -rf  LSST_WFD_nexus_2097_MODEL02_compressed/"
   ]
  },
  {
   "cell_type": "code",
   "execution_count": 10,
   "metadata": {},
   "outputs": [],
   "source": [
    "for \n",
    "snsims = SNANASims.fromSNANAfileroot(rootfile, coerce_inds2int=True, location=location, gzipped=True)"
   ]
  },
  {
   "cell_type": "code",
   "execution_count": 11,
   "metadata": {},
   "outputs": [],
   "source": [
    "from lcfeats import get_photTable"
   ]
  },
  {
   "cell_type": "code",
   "execution_count": 14,
   "metadata": {},
   "outputs": [],
   "source": [
    "phottable = get_photTable(snsims)"
   ]
  },
  {
   "cell_type": "code",
   "execution_count": 18,
   "metadata": {},
   "outputs": [
    {
     "name": "stdout",
     "output_type": "stream",
     "text": [
      "<class 'pandas.core.frame.DataFrame'>\n",
      "Int64Index: 69623 entries, 0 to 145\n",
      "Data columns (total 15 columns):\n",
      "mjd           69623 non-null float64\n",
      "band          69623 non-null object\n",
      "FIELD         69623 non-null object\n",
      "PHOTFLAG      69623 non-null int32\n",
      "PHOTPROB      69623 non-null float32\n",
      "flux          69623 non-null float32\n",
      "fluxerr       69623 non-null float32\n",
      "PSF_SIG1      69623 non-null float32\n",
      "SKY_SIG       69623 non-null float32\n",
      "ZEROPT        69623 non-null float32\n",
      "SIM_MAGOBS    69623 non-null float32\n",
      "zpsys         69623 non-null object\n",
      "zp            69623 non-null float64\n",
      "SNID          69623 non-null int64\n",
      "SNR           69623 non-null float32\n",
      "dtypes: float32(8), float64(2), int32(1), int64(1), object(3)\n",
      "memory usage: 6.1+ MB\n"
     ]
    }
   ],
   "source": [
    "phottable.info()"
   ]
  },
  {
   "cell_type": "code",
   "execution_count": 13,
   "metadata": {},
   "outputs": [],
   "source": [
    "xx = snsims.get_SNANA_photometry(snid=63824836).lightCurve"
   ]
  },
  {
   "cell_type": "code",
   "execution_count": 14,
   "metadata": {},
   "outputs": [
    {
     "data": {
      "text/plain": [
       "Index(['mjd', 'band', 'FIELD', 'PHOTFLAG', 'PHOTPROB', 'flux', 'fluxerr',\n",
       "       'PSF_SIG1', 'SKY_SIG', 'ZEROPT', 'SIM_MAGOBS', 'zpsys', 'zp', 'SNID'],\n",
       "      dtype='object')"
      ]
     },
     "execution_count": 14,
     "metadata": {},
     "output_type": "execute_result"
    }
   ],
   "source": [
    "xx.columns"
   ]
  },
  {
   "cell_type": "code",
   "execution_count": 15,
   "metadata": {},
   "outputs": [],
   "source": [
    "from fitsio import FITS"
   ]
  },
  {
   "cell_type": "code",
   "execution_count": 18,
   "metadata": {},
   "outputs": [],
   "source": [
    "ptt =FITS(snsims.photFile)"
   ]
  },
  {
   "cell_type": "code",
   "execution_count": 28,
   "metadata": {},
   "outputs": [],
   "source": [
    "x = pd.DataFrame(ptt[1][:10].byteswap().newbyteorder())"
   ]
  },
  {
   "cell_type": "code",
   "execution_count": 13,
   "metadata": {},
   "outputs": [
    {
     "ename": "NameError",
     "evalue": "name 'l' is not defined",
     "output_type": "error",
     "traceback": [
      "\u001b[0;31m---------------------------------------------------------------------------\u001b[0m",
      "\u001b[0;31mNameError\u001b[0m                                 Traceback (most recent call last)",
      "\u001b[0;32m<ipython-input-13-cddc73829317>\u001b[0m in \u001b[0;36m<module>\u001b[0;34m()\u001b[0m\n\u001b[0;32m----> 1\u001b[0;31m \u001b[0mxx\u001b[0m\u001b[0;34m[\u001b[0m\u001b[0mnp\u001b[0m\u001b[0;34m.\u001b[0m\u001b[0marray\u001b[0m\u001b[0;34m(\u001b[0m\u001b[0ml\u001b[0m\u001b[0;34m)\u001b[0m\u001b[0;34m]\u001b[0m\u001b[0;34m\u001b[0m\u001b[0m\n\u001b[0m",
      "\u001b[0;31mNameError\u001b[0m: name 'l' is not defined"
     ]
    }
   ],
   "source": [
    "xx[np.array(l)]"
   ]
  },
  {
   "cell_type": "code",
   "execution_count": 14,
   "metadata": {},
   "outputs": [],
   "source": [
    "l = ('PHOTFLAG', \"ZEROPT\")"
   ]
  },
  {
   "cell_type": "code",
   "execution_count": 33,
   "metadata": {},
   "outputs": [
    {
     "data": {
      "text/plain": [
       "Index(['SUBSURVEY', 'IAUC', 'FAKE', 'RA', 'DECL', 'PIXSIZE', 'NXPIX', 'NYPIX',\n",
       "       'CCDNUM', 'SNTYPE', 'NOBS', 'PTROBS_MIN', 'PTROBS_MAX', 'MWEBV',\n",
       "       'MWEBV_ERR', 'REDSHIFT_HELIO', 'REDSHIFT_HELIO_ERR', 'REDSHIFT_FINAL',\n",
       "       'REDSHIFT_FINAL_ERR', 'VPEC', 'VPEC_ERR', 'HOSTGAL_OBJID',\n",
       "       'HOSTGAL_PHOTOZ', 'HOSTGAL_PHOTOZ_ERR', 'HOSTGAL_SPECZ',\n",
       "       'HOSTGAL_SPECZ_ERR', 'HOSTGAL_SNSEP', 'HOSTGAL_LOGMASS',\n",
       "       'HOSTGAL_LOGMASS_ERR', 'HOSTGAL_MAG_u', 'HOSTGAL_MAG_g',\n",
       "       'HOSTGAL_MAG_r', 'HOSTGAL_MAG_i', 'HOSTGAL_MAG_z', 'HOSTGAL_MAG_Y',\n",
       "       'HOSTGAL_SB_FLUXCAL_u', 'HOSTGAL_SB_FLUXCAL_g', 'HOSTGAL_SB_FLUXCAL_r',\n",
       "       'HOSTGAL_SB_FLUXCAL_i', 'HOSTGAL_SB_FLUXCAL_z', 'HOSTGAL_SB_FLUXCAL_Y',\n",
       "       'PEAKMJD', 'SEARCH_TYPE', 'SIM_MODEL_NAME', 'SIM_MODEL_INDEX',\n",
       "       'SIM_TYPE_INDEX', 'SIM_TYPE_NAME', 'SIM_TEMPLATE_INDEX', 'SIM_LIBID',\n",
       "       'SIM_NGEN_LIBID', 'SIM_NOBS_UNDEFINED', 'SIM_SEARCHEFF_MASK',\n",
       "       'SIM_REDSHIFT_HELIO', 'SIM_REDSHIFT_CMB', 'SIM_REDSHIFT_HOST',\n",
       "       'SIM_VPEC', 'SIM_DLMU', 'SIM_LENSDMU', 'SIM_RA', 'SIM_DECL',\n",
       "       'SIM_MWEBV', 'SIM_PEAKMJD', 'SIM_MAGSMEAR_COH', 'SIM_AV', 'SIM_RV',\n",
       "       'SIM_PEAKMAG_u', 'SIM_PEAKMAG_g', 'SIM_PEAKMAG_r', 'SIM_PEAKMAG_i',\n",
       "       'SIM_PEAKMAG_z', 'SIM_PEAKMAG_Y', 'SIM_EXPOSURE_u', 'SIM_EXPOSURE_g',\n",
       "       'SIM_EXPOSURE_r', 'SIM_EXPOSURE_i', 'SIM_EXPOSURE_z', 'SIM_EXPOSURE_Y',\n",
       "       'SIM_GALFRAC_u', 'SIM_GALFRAC_g', 'SIM_GALFRAC_r', 'SIM_GALFRAC_i',\n",
       "       'SIM_GALFRAC_z', 'SIM_GALFRAC_Y', 'SIM_SUBSAMPLE_INDEX'],\n",
       "      dtype='object')"
      ]
     },
     "execution_count": 33,
     "metadata": {},
     "output_type": "execute_result"
    }
   ],
   "source": [
    "snsims.headData.columns"
   ]
  },
  {
   "cell_type": "code",
   "execution_count": 27,
   "metadata": {},
   "outputs": [
    {
     "data": {
      "text/plain": [
       "6144"
      ]
     },
     "execution_count": 27,
     "metadata": {},
     "output_type": "execute_result"
    }
   ],
   "source": [
    "2048 + 4096"
   ]
  },
  {
   "cell_type": "code",
   "execution_count": null,
   "metadata": {},
   "outputs": [],
   "source": [
    "snsims.get_SNANA_photometry"
   ]
  },
  {
   "cell_type": "code",
   "execution_count": 12,
   "metadata": {},
   "outputs": [],
   "source": [
    "import time"
   ]
  },
  {
   "cell_type": "code",
   "execution_count": 13,
   "metadata": {},
   "outputs": [],
   "source": [
    "ts = time.time()\n",
    "pt = lcfeats.get_photTable(snsims, filter_query='SNID%50==0')\n",
    "te = time.time()"
   ]
  },
  {
   "cell_type": "code",
   "execution_count": 14,
   "metadata": {},
   "outputs": [],
   "source": [
    "from lcfeats import Features, Metrics"
   ]
  },
  {
   "cell_type": "code",
   "execution_count": 15,
   "metadata": {},
   "outputs": [],
   "source": [
    "ht = snsims.headData.reset_index().query('SNID%50==0')"
   ]
  },
  {
   "cell_type": "code",
   "execution_count": 16,
   "metadata": {},
   "outputs": [],
   "source": [
    "\n",
    "ft = Features(ht, pt)"
   ]
  },
  {
   "cell_type": "code",
   "execution_count": 17,
   "metadata": {},
   "outputs": [
    {
     "name": "stderr",
     "output_type": "stream",
     "text": [
      "/Users/rbiswas/soft/mypython3/lib/python3.6/site-packages/numpy/lib/nanfunctions.py:717: RuntimeWarning: All-NaN slice encountered\n",
      "  warnings.warn(\"All-NaN slice encountered\", RuntimeWarning)\n"
     ]
    },
    {
     "name": "stdout",
     "output_type": "stream",
     "text": [
      "Index(['lsstr_SNR_greater_5.0_mjd_min', 'lsstr_SNR_greater_5.0_mjd_max',\n",
      "       'lsstr_SNR_greater_5.0_numObs', 'lsstr_SNR_greater_5.0_diffmedian',\n",
      "       'lsstr_SNR_greater_5.0_diffstd'],\n",
      "      dtype='object')\n",
      "Index(['SNID', 'SUBSURVEY', 'IAUC', 'FAKE', 'RA', 'DECL', 'PIXSIZE', 'NXPIX',\n",
      "       'NYPIX', 'CCDNUM', 'SNTYPE', 'NOBS', 'PTROBS_MIN', 'PTROBS_MAX',\n",
      "       'MWEBV', 'MWEBV_ERR', 'REDSHIFT_HELIO', 'REDSHIFT_HELIO_ERR',\n",
      "       'REDSHIFT_FINAL', 'REDSHIFT_FINAL_ERR', 'VPEC', 'VPEC_ERR',\n",
      "       'HOSTGAL_OBJID', 'HOSTGAL_PHOTOZ', 'HOSTGAL_PHOTOZ_ERR',\n",
      "       'HOSTGAL_SPECZ', 'HOSTGAL_SPECZ_ERR', 'HOSTGAL_SNSEP',\n",
      "       'HOSTGAL_LOGMASS', 'HOSTGAL_LOGMASS_ERR', 'HOSTGAL_MAG_u',\n",
      "       'HOSTGAL_MAG_g', 'HOSTGAL_MAG_r', 'HOSTGAL_MAG_i', 'HOSTGAL_MAG_z',\n",
      "       'HOSTGAL_MAG_Y', 'HOSTGAL_SB_FLUXCAL_u', 'HOSTGAL_SB_FLUXCAL_g',\n",
      "       'HOSTGAL_SB_FLUXCAL_r', 'HOSTGAL_SB_FLUXCAL_i', 'HOSTGAL_SB_FLUXCAL_z',\n",
      "       'HOSTGAL_SB_FLUXCAL_Y', 'PEAKMJD', 'SEARCH_TYPE', 'SIM_MODEL_NAME',\n",
      "       'SIM_MODEL_INDEX', 'SIM_TYPE_INDEX', 'SIM_TYPE_NAME',\n",
      "       'SIM_TEMPLATE_INDEX', 'SIM_LIBID', 'SIM_NGEN_LIBID',\n",
      "       'SIM_NOBS_UNDEFINED', 'SIM_SEARCHEFF_MASK', 'SIM_REDSHIFT_HELIO',\n",
      "       'SIM_REDSHIFT_CMB', 'SIM_REDSHIFT_HOST', 'SIM_VPEC', 'SIM_DLMU',\n",
      "       'SIM_LENSDMU', 'SIM_RA', 'SIM_DECL', 'SIM_MWEBV', 'SIM_PEAKMJD',\n",
      "       'SIM_MAGSMEAR_COH', 'SIM_AV', 'SIM_RV', 'SIM_PEAKMAG_u',\n",
      "       'SIM_PEAKMAG_g', 'SIM_PEAKMAG_r', 'SIM_PEAKMAG_i', 'SIM_PEAKMAG_z',\n",
      "       'SIM_PEAKMAG_Y', 'SIM_EXPOSURE_u', 'SIM_EXPOSURE_g', 'SIM_EXPOSURE_r',\n",
      "       'SIM_EXPOSURE_i', 'SIM_EXPOSURE_z', 'SIM_EXPOSURE_Y', 'SIM_GALFRAC_u',\n",
      "       'SIM_GALFRAC_g', 'SIM_GALFRAC_r', 'SIM_GALFRAC_i', 'SIM_GALFRAC_z',\n",
      "       'SIM_GALFRAC_Y', 'SIM_SUBSAMPLE_INDEX'],\n",
      "      dtype='object')\n",
      "Index(['lsstz_SNR_greater_5.0_mjd_min', 'lsstz_SNR_greater_5.0_mjd_max',\n",
      "       'lsstz_SNR_greater_5.0_numObs', 'lsstz_SNR_greater_5.0_diffmedian',\n",
      "       'lsstz_SNR_greater_5.0_diffstd'],\n",
      "      dtype='object')\n",
      "Index(['SNID', 'SUBSURVEY', 'IAUC', 'FAKE', 'RA', 'DECL', 'PIXSIZE', 'NXPIX',\n",
      "       'NYPIX', 'CCDNUM', 'SNTYPE', 'NOBS', 'PTROBS_MIN', 'PTROBS_MAX',\n",
      "       'MWEBV', 'MWEBV_ERR', 'REDSHIFT_HELIO', 'REDSHIFT_HELIO_ERR',\n",
      "       'REDSHIFT_FINAL', 'REDSHIFT_FINAL_ERR', 'VPEC', 'VPEC_ERR',\n",
      "       'HOSTGAL_OBJID', 'HOSTGAL_PHOTOZ', 'HOSTGAL_PHOTOZ_ERR',\n",
      "       'HOSTGAL_SPECZ', 'HOSTGAL_SPECZ_ERR', 'HOSTGAL_SNSEP',\n",
      "       'HOSTGAL_LOGMASS', 'HOSTGAL_LOGMASS_ERR', 'HOSTGAL_MAG_u',\n",
      "       'HOSTGAL_MAG_g', 'HOSTGAL_MAG_r', 'HOSTGAL_MAG_i', 'HOSTGAL_MAG_z',\n",
      "       'HOSTGAL_MAG_Y', 'HOSTGAL_SB_FLUXCAL_u', 'HOSTGAL_SB_FLUXCAL_g',\n",
      "       'HOSTGAL_SB_FLUXCAL_r', 'HOSTGAL_SB_FLUXCAL_i', 'HOSTGAL_SB_FLUXCAL_z',\n",
      "       'HOSTGAL_SB_FLUXCAL_Y', 'PEAKMJD', 'SEARCH_TYPE', 'SIM_MODEL_NAME',\n",
      "       'SIM_MODEL_INDEX', 'SIM_TYPE_INDEX', 'SIM_TYPE_NAME',\n",
      "       'SIM_TEMPLATE_INDEX', 'SIM_LIBID', 'SIM_NGEN_LIBID',\n",
      "       'SIM_NOBS_UNDEFINED', 'SIM_SEARCHEFF_MASK', 'SIM_REDSHIFT_HELIO',\n",
      "       'SIM_REDSHIFT_CMB', 'SIM_REDSHIFT_HOST', 'SIM_VPEC', 'SIM_DLMU',\n",
      "       'SIM_LENSDMU', 'SIM_RA', 'SIM_DECL', 'SIM_MWEBV', 'SIM_PEAKMJD',\n",
      "       'SIM_MAGSMEAR_COH', 'SIM_AV', 'SIM_RV', 'SIM_PEAKMAG_u',\n",
      "       'SIM_PEAKMAG_g', 'SIM_PEAKMAG_r', 'SIM_PEAKMAG_i', 'SIM_PEAKMAG_z',\n",
      "       'SIM_PEAKMAG_Y', 'SIM_EXPOSURE_u', 'SIM_EXPOSURE_g', 'SIM_EXPOSURE_r',\n",
      "       'SIM_EXPOSURE_i', 'SIM_EXPOSURE_z', 'SIM_EXPOSURE_Y', 'SIM_GALFRAC_u',\n",
      "       'SIM_GALFRAC_g', 'SIM_GALFRAC_r', 'SIM_GALFRAC_i', 'SIM_GALFRAC_z',\n",
      "       'SIM_GALFRAC_Y', 'SIM_SUBSAMPLE_INDEX', 'lsstr_SNR_greater_5.0_mjd_min',\n",
      "       'lsstr_SNR_greater_5.0_mjd_max', 'lsstr_SNR_greater_5.0_numObs',\n",
      "       'lsstr_SNR_greater_5.0_diffmedian', 'lsstr_SNR_greater_5.0_diffstd'],\n",
      "      dtype='object')\n",
      "Index(['lssti_SNR_greater_5.0_mjd_min', 'lssti_SNR_greater_5.0_mjd_max',\n",
      "       'lssti_SNR_greater_5.0_numObs', 'lssti_SNR_greater_5.0_diffmedian',\n",
      "       'lssti_SNR_greater_5.0_diffstd'],\n",
      "      dtype='object')\n",
      "Index(['SNID', 'SUBSURVEY', 'IAUC', 'FAKE', 'RA', 'DECL', 'PIXSIZE', 'NXPIX',\n",
      "       'NYPIX', 'CCDNUM', 'SNTYPE', 'NOBS', 'PTROBS_MIN', 'PTROBS_MAX',\n",
      "       'MWEBV', 'MWEBV_ERR', 'REDSHIFT_HELIO', 'REDSHIFT_HELIO_ERR',\n",
      "       'REDSHIFT_FINAL', 'REDSHIFT_FINAL_ERR', 'VPEC', 'VPEC_ERR',\n",
      "       'HOSTGAL_OBJID', 'HOSTGAL_PHOTOZ', 'HOSTGAL_PHOTOZ_ERR',\n",
      "       'HOSTGAL_SPECZ', 'HOSTGAL_SPECZ_ERR', 'HOSTGAL_SNSEP',\n",
      "       'HOSTGAL_LOGMASS', 'HOSTGAL_LOGMASS_ERR', 'HOSTGAL_MAG_u',\n",
      "       'HOSTGAL_MAG_g', 'HOSTGAL_MAG_r', 'HOSTGAL_MAG_i', 'HOSTGAL_MAG_z',\n",
      "       'HOSTGAL_MAG_Y', 'HOSTGAL_SB_FLUXCAL_u', 'HOSTGAL_SB_FLUXCAL_g',\n",
      "       'HOSTGAL_SB_FLUXCAL_r', 'HOSTGAL_SB_FLUXCAL_i', 'HOSTGAL_SB_FLUXCAL_z',\n",
      "       'HOSTGAL_SB_FLUXCAL_Y', 'PEAKMJD', 'SEARCH_TYPE', 'SIM_MODEL_NAME',\n",
      "       'SIM_MODEL_INDEX', 'SIM_TYPE_INDEX', 'SIM_TYPE_NAME',\n",
      "       'SIM_TEMPLATE_INDEX', 'SIM_LIBID', 'SIM_NGEN_LIBID',\n",
      "       'SIM_NOBS_UNDEFINED', 'SIM_SEARCHEFF_MASK', 'SIM_REDSHIFT_HELIO',\n",
      "       'SIM_REDSHIFT_CMB', 'SIM_REDSHIFT_HOST', 'SIM_VPEC', 'SIM_DLMU',\n",
      "       'SIM_LENSDMU', 'SIM_RA', 'SIM_DECL', 'SIM_MWEBV', 'SIM_PEAKMJD',\n",
      "       'SIM_MAGSMEAR_COH', 'SIM_AV', 'SIM_RV', 'SIM_PEAKMAG_u',\n",
      "       'SIM_PEAKMAG_g', 'SIM_PEAKMAG_r', 'SIM_PEAKMAG_i', 'SIM_PEAKMAG_z',\n",
      "       'SIM_PEAKMAG_Y', 'SIM_EXPOSURE_u', 'SIM_EXPOSURE_g', 'SIM_EXPOSURE_r',\n",
      "       'SIM_EXPOSURE_i', 'SIM_EXPOSURE_z', 'SIM_EXPOSURE_Y', 'SIM_GALFRAC_u',\n",
      "       'SIM_GALFRAC_g', 'SIM_GALFRAC_r', 'SIM_GALFRAC_i', 'SIM_GALFRAC_z',\n",
      "       'SIM_GALFRAC_Y', 'SIM_SUBSAMPLE_INDEX', 'lsstr_SNR_greater_5.0_mjd_min',\n",
      "       'lsstr_SNR_greater_5.0_mjd_max', 'lsstr_SNR_greater_5.0_numObs',\n",
      "       'lsstr_SNR_greater_5.0_diffmedian', 'lsstr_SNR_greater_5.0_diffstd',\n",
      "       'lsstz_SNR_greater_5.0_mjd_min', 'lsstz_SNR_greater_5.0_mjd_max',\n",
      "       'lsstz_SNR_greater_5.0_numObs', 'lsstz_SNR_greater_5.0_diffmedian',\n",
      "       'lsstz_SNR_greater_5.0_diffstd'],\n",
      "      dtype='object')\n",
      "Index(['lsstg_SNR_greater_5.0_mjd_min', 'lsstg_SNR_greater_5.0_mjd_max',\n",
      "       'lsstg_SNR_greater_5.0_numObs', 'lsstg_SNR_greater_5.0_diffmedian',\n",
      "       'lsstg_SNR_greater_5.0_diffstd'],\n",
      "      dtype='object')\n",
      "Index(['SNID', 'SUBSURVEY', 'IAUC', 'FAKE', 'RA', 'DECL', 'PIXSIZE', 'NXPIX',\n",
      "       'NYPIX', 'CCDNUM', 'SNTYPE', 'NOBS', 'PTROBS_MIN', 'PTROBS_MAX',\n",
      "       'MWEBV', 'MWEBV_ERR', 'REDSHIFT_HELIO', 'REDSHIFT_HELIO_ERR',\n",
      "       'REDSHIFT_FINAL', 'REDSHIFT_FINAL_ERR', 'VPEC', 'VPEC_ERR',\n",
      "       'HOSTGAL_OBJID', 'HOSTGAL_PHOTOZ', 'HOSTGAL_PHOTOZ_ERR',\n",
      "       'HOSTGAL_SPECZ', 'HOSTGAL_SPECZ_ERR', 'HOSTGAL_SNSEP',\n",
      "       'HOSTGAL_LOGMASS', 'HOSTGAL_LOGMASS_ERR', 'HOSTGAL_MAG_u',\n",
      "       'HOSTGAL_MAG_g', 'HOSTGAL_MAG_r', 'HOSTGAL_MAG_i', 'HOSTGAL_MAG_z',\n",
      "       'HOSTGAL_MAG_Y', 'HOSTGAL_SB_FLUXCAL_u', 'HOSTGAL_SB_FLUXCAL_g',\n",
      "       'HOSTGAL_SB_FLUXCAL_r', 'HOSTGAL_SB_FLUXCAL_i', 'HOSTGAL_SB_FLUXCAL_z',\n",
      "       'HOSTGAL_SB_FLUXCAL_Y', 'PEAKMJD', 'SEARCH_TYPE', 'SIM_MODEL_NAME',\n",
      "       'SIM_MODEL_INDEX', 'SIM_TYPE_INDEX', 'SIM_TYPE_NAME',\n",
      "       'SIM_TEMPLATE_INDEX', 'SIM_LIBID', 'SIM_NGEN_LIBID',\n",
      "       'SIM_NOBS_UNDEFINED', 'SIM_SEARCHEFF_MASK', 'SIM_REDSHIFT_HELIO',\n",
      "       'SIM_REDSHIFT_CMB', 'SIM_REDSHIFT_HOST', 'SIM_VPEC', 'SIM_DLMU',\n",
      "       'SIM_LENSDMU', 'SIM_RA', 'SIM_DECL', 'SIM_MWEBV', 'SIM_PEAKMJD',\n",
      "       'SIM_MAGSMEAR_COH', 'SIM_AV', 'SIM_RV', 'SIM_PEAKMAG_u',\n",
      "       'SIM_PEAKMAG_g', 'SIM_PEAKMAG_r', 'SIM_PEAKMAG_i', 'SIM_PEAKMAG_z',\n",
      "       'SIM_PEAKMAG_Y', 'SIM_EXPOSURE_u', 'SIM_EXPOSURE_g', 'SIM_EXPOSURE_r',\n",
      "       'SIM_EXPOSURE_i', 'SIM_EXPOSURE_z', 'SIM_EXPOSURE_Y', 'SIM_GALFRAC_u',\n",
      "       'SIM_GALFRAC_g', 'SIM_GALFRAC_r', 'SIM_GALFRAC_i', 'SIM_GALFRAC_z',\n",
      "       'SIM_GALFRAC_Y', 'SIM_SUBSAMPLE_INDEX', 'lsstr_SNR_greater_5.0_mjd_min',\n",
      "       'lsstr_SNR_greater_5.0_mjd_max', 'lsstr_SNR_greater_5.0_numObs',\n",
      "       'lsstr_SNR_greater_5.0_diffmedian', 'lsstr_SNR_greater_5.0_diffstd',\n",
      "       'lsstz_SNR_greater_5.0_mjd_min', 'lsstz_SNR_greater_5.0_mjd_max',\n",
      "       'lsstz_SNR_greater_5.0_numObs', 'lsstz_SNR_greater_5.0_diffmedian',\n",
      "       'lsstz_SNR_greater_5.0_diffstd', 'lssti_SNR_greater_5.0_mjd_min',\n",
      "       'lssti_SNR_greater_5.0_mjd_max', 'lssti_SNR_greater_5.0_numObs',\n",
      "       'lssti_SNR_greater_5.0_diffmedian', 'lssti_SNR_greater_5.0_diffstd'],\n",
      "      dtype='object')\n",
      "Index(['lsstu_SNR_greater_5.0_mjd_min', 'lsstu_SNR_greater_5.0_mjd_max',\n",
      "       'lsstu_SNR_greater_5.0_numObs', 'lsstu_SNR_greater_5.0_diffmedian',\n",
      "       'lsstu_SNR_greater_5.0_diffstd'],\n",
      "      dtype='object')\n",
      "Index(['SNID', 'SUBSURVEY', 'IAUC', 'FAKE', 'RA', 'DECL', 'PIXSIZE', 'NXPIX',\n",
      "       'NYPIX', 'CCDNUM',\n",
      "       ...\n",
      "       'lssti_SNR_greater_5.0_mjd_min', 'lssti_SNR_greater_5.0_mjd_max',\n",
      "       'lssti_SNR_greater_5.0_numObs', 'lssti_SNR_greater_5.0_diffmedian',\n",
      "       'lssti_SNR_greater_5.0_diffstd', 'lsstg_SNR_greater_5.0_mjd_min',\n",
      "       'lsstg_SNR_greater_5.0_mjd_max', 'lsstg_SNR_greater_5.0_numObs',\n",
      "       'lsstg_SNR_greater_5.0_diffmedian', 'lsstg_SNR_greater_5.0_diffstd'],\n",
      "      dtype='object', length=105)\n",
      "Index(['lssty_SNR_greater_5.0_mjd_min', 'lssty_SNR_greater_5.0_mjd_max',\n",
      "       'lssty_SNR_greater_5.0_numObs', 'lssty_SNR_greater_5.0_diffmedian',\n",
      "       'lssty_SNR_greater_5.0_diffstd'],\n",
      "      dtype='object')\n",
      "Index(['SNID', 'SUBSURVEY', 'IAUC', 'FAKE', 'RA', 'DECL', 'PIXSIZE', 'NXPIX',\n",
      "       'NYPIX', 'CCDNUM',\n",
      "       ...\n",
      "       'lsstg_SNR_greater_5.0_mjd_min', 'lsstg_SNR_greater_5.0_mjd_max',\n",
      "       'lsstg_SNR_greater_5.0_numObs', 'lsstg_SNR_greater_5.0_diffmedian',\n",
      "       'lsstg_SNR_greater_5.0_diffstd', 'lsstu_SNR_greater_5.0_mjd_min',\n",
      "       'lsstu_SNR_greater_5.0_mjd_max', 'lsstu_SNR_greater_5.0_numObs',\n",
      "       'lsstu_SNR_greater_5.0_diffmedian', 'lsstu_SNR_greater_5.0_diffstd'],\n",
      "      dtype='object', length=110)\n"
     ]
    }
   ],
   "source": [
    "ss = ft.add_singleband_quants(ft.photometry,\n",
    "                              ft.summary,\n",
    "                              SNR_thresh=5.0)"
   ]
  },
  {
   "cell_type": "code",
   "execution_count": 25,
   "metadata": {},
   "outputs": [],
   "source": [
    "metrics = Metrics(ss, ft.photometry, 'metrics.csv')"
   ]
  },
  {
   "cell_type": "code",
   "execution_count": 26,
   "metadata": {},
   "outputs": [
    {
     "name": "stdout",
     "output_type": "stream",
     "text": [
      "metrics.csv: No such file or directory\r\n"
     ]
    }
   ],
   "source": [
    "!less metrics.csv"
   ]
  },
  {
   "cell_type": "code",
   "execution_count": 33,
   "metadata": {},
   "outputs": [],
   "source": [
    "metrics.summary.to_csv('metrics.csv')"
   ]
  },
  {
   "cell_type": "code",
   "execution_count": 34,
   "metadata": {},
   "outputs": [
    {
     "name": "stdout",
     "output_type": "stream",
     "text": [
      "    5704 metrics.csv\r\n"
     ]
    }
   ],
   "source": [
    "!wc -l metrics.csv"
   ]
  },
  {
   "cell_type": "code",
   "execution_count": null,
   "metadata": {},
   "outputs": [],
   "source": [
    "fits"
   ]
  }
 ],
 "metadata": {
  "kernelspec": {
   "display_name": "Python 3",
   "language": "python",
   "name": "python3"
  },
  "language_info": {
   "codemirror_mode": {
    "name": "ipython",
    "version": 3
   },
   "file_extension": ".py",
   "mimetype": "text/x-python",
   "name": "python",
   "nbconvert_exporter": "python",
   "pygments_lexer": "ipython3",
   "version": "3.6.5"
  }
 },
 "nbformat": 4,
 "nbformat_minor": 2
}
